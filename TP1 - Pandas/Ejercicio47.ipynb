{
  "nbformat": 4,
  "nbformat_minor": 0,
  "metadata": {
    "colab": {
      "name": "Ejercicio47.ipynb",
      "provenance": [],
      "collapsed_sections": []
    },
    "kernelspec": {
      "name": "python3",
      "display_name": "Python 3"
    },
    "language_info": {
      "name": "python"
    }
  },
  "cells": [
    {
      "cell_type": "markdown",
      "metadata": {
        "id": "zoFPI7_Dbcyy"
      },
      "source": [
        "#Ejercicio 47"
      ]
    },
    {
      "cell_type": "code",
      "metadata": {
        "id": "ie0r1mPRbY4Q"
      },
      "source": [
        "import pandas as pd\n",
        "import numpy as np\n",
        "\n",
        "pd.options.display.float_format = '{:20,.5f}'.format # suprimimos la notacion cientifica en los outputs\n",
        "\n",
        "import warnings\n",
        "warnings.filterwarnings('ignore')"
      ],
      "execution_count": null,
      "outputs": []
    },
    {
      "cell_type": "code",
      "metadata": {
        "id": "5Jon6-8RbqwP"
      },
      "source": [
        "from pydrive.auth import GoogleAuth\n",
        "from pydrive.drive import GoogleDrive\n",
        "from google.colab import auth\n",
        "from oauth2client.client import GoogleCredentials"
      ],
      "execution_count": null,
      "outputs": []
    },
    {
      "cell_type": "code",
      "metadata": {
        "id": "LfXV3dSLbtXy"
      },
      "source": [
        "auth.authenticate_user()\n",
        "gauth = GoogleAuth()\n",
        "gauth.credentials = GoogleCredentials.get_application_default()\n",
        "drive = GoogleDrive(gauth)"
      ],
      "execution_count": null,
      "outputs": []
    },
    {
      "cell_type": "code",
      "metadata": {
        "id": "Os6TeQxOkZob"
      },
      "source": [
        "id='1onzu1sUgeY5EwmVQnjn5nmCn6YPf6S8v'\n",
        "downloaded = drive.CreateFile({'id': id})\n",
        "downloaded.GetContentFile('pagelinks_sample.csv')"
      ],
      "execution_count": null,
      "outputs": []
    },
    {
      "cell_type": "code",
      "metadata": {
        "colab": {
          "base_uri": "https://localhost:8080/",
          "height": 206
        },
        "id": "_-5pgMO_kaJH",
        "outputId": "0b80142c-02a3-4457-ce9b-e9eef9939b9e"
      },
      "source": [
        "pagelinks_sample = pd.read_csv('pagelinks_sample.csv', usecols=['pl_from','pl_title'])\n",
        "pagelinks_sample.head()"
      ],
      "execution_count": null,
      "outputs": [
        {
          "output_type": "execute_result",
          "data": {
            "text/html": [
              "<div>\n",
              "<style scoped>\n",
              "    .dataframe tbody tr th:only-of-type {\n",
              "        vertical-align: middle;\n",
              "    }\n",
              "\n",
              "    .dataframe tbody tr th {\n",
              "        vertical-align: top;\n",
              "    }\n",
              "\n",
              "    .dataframe thead th {\n",
              "        text-align: right;\n",
              "    }\n",
              "</style>\n",
              "<table border=\"1\" class=\"dataframe\">\n",
              "  <thead>\n",
              "    <tr style=\"text-align: right;\">\n",
              "      <th></th>\n",
              "      <th>pl_from</th>\n",
              "      <th>pl_title</th>\n",
              "    </tr>\n",
              "  </thead>\n",
              "  <tbody>\n",
              "    <tr>\n",
              "      <th>0</th>\n",
              "      <td>4840492</td>\n",
              "      <td>Bandera_cÃ³digo_del_COI_TPE</td>\n",
              "    </tr>\n",
              "    <tr>\n",
              "      <th>1</th>\n",
              "      <td>950948</td>\n",
              "      <td>Esteban_DuÅ¡an</td>\n",
              "    </tr>\n",
              "    <tr>\n",
              "      <th>2</th>\n",
              "      <td>6418187</td>\n",
              "      <td>Insecta</td>\n",
              "    </tr>\n",
              "    <tr>\n",
              "      <th>3</th>\n",
              "      <td>3436623</td>\n",
              "      <td>Pleasure_to_Kill</td>\n",
              "    </tr>\n",
              "    <tr>\n",
              "      <th>4</th>\n",
              "      <td>4713066</td>\n",
              "      <td>DamiÃ¡n_Oliver</td>\n",
              "    </tr>\n",
              "  </tbody>\n",
              "</table>\n",
              "</div>"
            ],
            "text/plain": [
              "   pl_from                     pl_title\n",
              "0  4840492  Bandera_cÃ³digo_del_COI_TPE\n",
              "1   950948               Esteban_DuÅ¡an\n",
              "2  6418187                      Insecta\n",
              "3  3436623             Pleasure_to_Kill\n",
              "4  4713066               DamiÃ¡n_Oliver"
            ]
          },
          "metadata": {},
          "execution_count": 5
        }
      ]
    },
    {
      "cell_type": "code",
      "metadata": {
        "colab": {
          "base_uri": "https://localhost:8080/",
          "height": 237
        },
        "id": "EQPJOxq4kdxQ",
        "outputId": "46f7c58d-eebb-46cc-cab5-5fd6a37d8ff2"
      },
      "source": [
        "grouped = pagelinks_sample.groupby('pl_from').count()\n",
        "grouped.head()"
      ],
      "execution_count": null,
      "outputs": [
        {
          "output_type": "execute_result",
          "data": {
            "text/html": [
              "<div>\n",
              "<style scoped>\n",
              "    .dataframe tbody tr th:only-of-type {\n",
              "        vertical-align: middle;\n",
              "    }\n",
              "\n",
              "    .dataframe tbody tr th {\n",
              "        vertical-align: top;\n",
              "    }\n",
              "\n",
              "    .dataframe thead th {\n",
              "        text-align: right;\n",
              "    }\n",
              "</style>\n",
              "<table border=\"1\" class=\"dataframe\">\n",
              "  <thead>\n",
              "    <tr style=\"text-align: right;\">\n",
              "      <th></th>\n",
              "      <th>pl_title</th>\n",
              "    </tr>\n",
              "    <tr>\n",
              "      <th>pl_from</th>\n",
              "      <th></th>\n",
              "    </tr>\n",
              "  </thead>\n",
              "  <tbody>\n",
              "    <tr>\n",
              "      <th>5</th>\n",
              "      <td>2089</td>\n",
              "    </tr>\n",
              "    <tr>\n",
              "      <th>7</th>\n",
              "      <td>463</td>\n",
              "    </tr>\n",
              "    <tr>\n",
              "      <th>10</th>\n",
              "      <td>1681</td>\n",
              "    </tr>\n",
              "    <tr>\n",
              "      <th>15</th>\n",
              "      <td>98</td>\n",
              "    </tr>\n",
              "    <tr>\n",
              "      <th>17</th>\n",
              "      <td>26</td>\n",
              "    </tr>\n",
              "  </tbody>\n",
              "</table>\n",
              "</div>"
            ],
            "text/plain": [
              "         pl_title\n",
              "pl_from          \n",
              "5            2089\n",
              "7             463\n",
              "10           1681\n",
              "15             98\n",
              "17             26"
            ]
          },
          "metadata": {},
          "execution_count": 6
        }
      ]
    },
    {
      "cell_type": "code",
      "metadata": {
        "id": "OXiuMFeplLKv"
      },
      "source": [
        "id='1oS2m872fr6796N_DgVyQ1hUvGBqJb2nR'\n",
        "downloaded = drive.CreateFile({'id': id})\n",
        "downloaded.GetContentFile('contents.csv')"
      ],
      "execution_count": null,
      "outputs": []
    },
    {
      "cell_type": "code",
      "metadata": {
        "colab": {
          "base_uri": "https://localhost:8080/",
          "height": 206
        },
        "id": "scWlMU_HlSy2",
        "outputId": "336e2b78-a15d-4f13-db29-a1873cabe68e"
      },
      "source": [
        "contents = pd.read_csv('contents.csv', usecols=['title', 'id', 'revisor_username'])\n",
        "contents.head()"
      ],
      "execution_count": null,
      "outputs": [
        {
          "output_type": "execute_result",
          "data": {
            "text/html": [
              "<div>\n",
              "<style scoped>\n",
              "    .dataframe tbody tr th:only-of-type {\n",
              "        vertical-align: middle;\n",
              "    }\n",
              "\n",
              "    .dataframe tbody tr th {\n",
              "        vertical-align: top;\n",
              "    }\n",
              "\n",
              "    .dataframe thead th {\n",
              "        text-align: right;\n",
              "    }\n",
              "</style>\n",
              "<table border=\"1\" class=\"dataframe\">\n",
              "  <thead>\n",
              "    <tr style=\"text-align: right;\">\n",
              "      <th></th>\n",
              "      <th>title</th>\n",
              "      <th>id</th>\n",
              "      <th>revisor_username</th>\n",
              "    </tr>\n",
              "  </thead>\n",
              "  <tbody>\n",
              "    <tr>\n",
              "      <th>0</th>\n",
              "      <td>Wikipedia:Artículos solicitados</td>\n",
              "      <td>5</td>\n",
              "      <td>Metrónomo</td>\n",
              "    </tr>\n",
              "    <tr>\n",
              "      <th>1</th>\n",
              "      <td>Andorra</td>\n",
              "      <td>7</td>\n",
              "      <td>NaN</td>\n",
              "    </tr>\n",
              "    <tr>\n",
              "      <th>2</th>\n",
              "      <td>Argentina</td>\n",
              "      <td>10</td>\n",
              "      <td>Traitrich</td>\n",
              "    </tr>\n",
              "    <tr>\n",
              "      <th>3</th>\n",
              "      <td>Geografía de Andorra</td>\n",
              "      <td>15</td>\n",
              "      <td>Lojwe</td>\n",
              "    </tr>\n",
              "    <tr>\n",
              "      <th>4</th>\n",
              "      <td>Demografía de Andorra</td>\n",
              "      <td>17</td>\n",
              "      <td>Jialxv</td>\n",
              "    </tr>\n",
              "  </tbody>\n",
              "</table>\n",
              "</div>"
            ],
            "text/plain": [
              "                             title  id revisor_username\n",
              "0  Wikipedia:Artículos solicitados   5        Metrónomo\n",
              "1                          Andorra   7              NaN\n",
              "2                        Argentina  10        Traitrich\n",
              "3             Geografía de Andorra  15            Lojwe\n",
              "4            Demografía de Andorra  17           Jialxv"
            ]
          },
          "metadata": {},
          "execution_count": 8
        }
      ]
    },
    {
      "cell_type": "code",
      "metadata": {
        "colab": {
          "base_uri": "https://localhost:8080/",
          "height": 424
        },
        "id": "vCgKZfsclVms",
        "outputId": "8d906f45-0420-47e9-f315-2f4ad913a90a"
      },
      "source": [
        "cantidad = contents.merge(grouped,how='left', left_on='id', right_on='pl_from')\n",
        "cantidad = cantidad.rename(columns = {'pl_title':'cantidad_de_links'}).fillna(0)\n",
        "cantidad"
      ],
      "execution_count": null,
      "outputs": [
        {
          "output_type": "execute_result",
          "data": {
            "text/html": [
              "<div>\n",
              "<style scoped>\n",
              "    .dataframe tbody tr th:only-of-type {\n",
              "        vertical-align: middle;\n",
              "    }\n",
              "\n",
              "    .dataframe tbody tr th {\n",
              "        vertical-align: top;\n",
              "    }\n",
              "\n",
              "    .dataframe thead th {\n",
              "        text-align: right;\n",
              "    }\n",
              "</style>\n",
              "<table border=\"1\" class=\"dataframe\">\n",
              "  <thead>\n",
              "    <tr style=\"text-align: right;\">\n",
              "      <th></th>\n",
              "      <th>title</th>\n",
              "      <th>id</th>\n",
              "      <th>revisor_username</th>\n",
              "      <th>cantidad_de_links</th>\n",
              "    </tr>\n",
              "  </thead>\n",
              "  <tbody>\n",
              "    <tr>\n",
              "      <th>0</th>\n",
              "      <td>Wikipedia:Artículos solicitados</td>\n",
              "      <td>5</td>\n",
              "      <td>Metrónomo</td>\n",
              "      <td>2,089.00000</td>\n",
              "    </tr>\n",
              "    <tr>\n",
              "      <th>1</th>\n",
              "      <td>Andorra</td>\n",
              "      <td>7</td>\n",
              "      <td>0</td>\n",
              "      <td>463.00000</td>\n",
              "    </tr>\n",
              "    <tr>\n",
              "      <th>2</th>\n",
              "      <td>Argentina</td>\n",
              "      <td>10</td>\n",
              "      <td>Traitrich</td>\n",
              "      <td>1,681.00000</td>\n",
              "    </tr>\n",
              "    <tr>\n",
              "      <th>3</th>\n",
              "      <td>Geografía de Andorra</td>\n",
              "      <td>15</td>\n",
              "      <td>Lojwe</td>\n",
              "      <td>98.00000</td>\n",
              "    </tr>\n",
              "    <tr>\n",
              "      <th>4</th>\n",
              "      <td>Demografía de Andorra</td>\n",
              "      <td>17</td>\n",
              "      <td>Jialxv</td>\n",
              "      <td>26.00000</td>\n",
              "    </tr>\n",
              "    <tr>\n",
              "      <th>...</th>\n",
              "      <td>...</td>\n",
              "      <td>...</td>\n",
              "      <td>...</td>\n",
              "      <td>...</td>\n",
              "    </tr>\n",
              "    <tr>\n",
              "      <th>4132159</th>\n",
              "      <td>Cruz nestoriana</td>\n",
              "      <td>10010593</td>\n",
              "      <td>Copydays</td>\n",
              "      <td>9.00000</td>\n",
              "    </tr>\n",
              "    <tr>\n",
              "      <th>4132160</th>\n",
              "      <td>Manifestación del orgullo gay de 1977 en Barce...</td>\n",
              "      <td>10010595</td>\n",
              "      <td>Crls9011</td>\n",
              "      <td>1.00000</td>\n",
              "    </tr>\n",
              "    <tr>\n",
              "      <th>4132161</th>\n",
              "      <td>Rocasaurus</td>\n",
              "      <td>10010596</td>\n",
              "      <td>Gabriel Solo</td>\n",
              "      <td>0.00000</td>\n",
              "    </tr>\n",
              "    <tr>\n",
              "      <th>4132162</th>\n",
              "      <td>Medalla Conmemorativa del 50.º Aniversario de ...</td>\n",
              "      <td>10010598</td>\n",
              "      <td>Términus</td>\n",
              "      <td>6.00000</td>\n",
              "    </tr>\n",
              "    <tr>\n",
              "      <th>4132163</th>\n",
              "      <td>Fatikroy</td>\n",
              "      <td>10010600</td>\n",
              "      <td>Carlukas</td>\n",
              "      <td>17.00000</td>\n",
              "    </tr>\n",
              "  </tbody>\n",
              "</table>\n",
              "<p>4132164 rows × 4 columns</p>\n",
              "</div>"
            ],
            "text/plain": [
              "                                                     title  ...    cantidad_de_links\n",
              "0                          Wikipedia:Artículos solicitados  ...          2,089.00000\n",
              "1                                                  Andorra  ...            463.00000\n",
              "2                                                Argentina  ...          1,681.00000\n",
              "3                                     Geografía de Andorra  ...             98.00000\n",
              "4                                    Demografía de Andorra  ...             26.00000\n",
              "...                                                    ...  ...                  ...\n",
              "4132159                                    Cruz nestoriana  ...              9.00000\n",
              "4132160  Manifestación del orgullo gay de 1977 en Barce...  ...              1.00000\n",
              "4132161                                         Rocasaurus  ...              0.00000\n",
              "4132162  Medalla Conmemorativa del 50.º Aniversario de ...  ...              6.00000\n",
              "4132163                                           Fatikroy  ...             17.00000\n",
              "\n",
              "[4132164 rows x 4 columns]"
            ]
          },
          "metadata": {},
          "execution_count": 9
        }
      ]
    },
    {
      "cell_type": "code",
      "metadata": {
        "colab": {
          "base_uri": "https://localhost:8080/"
        },
        "id": "02SQyOVBlmDi",
        "outputId": "f6e3523f-bd29-4f33-8fb5-9c3061c57887"
      },
      "source": [
        "resultado = cantidad.cantidad_de_links.median()\n",
        "resultado"
      ],
      "execution_count": null,
      "outputs": [
        {
          "output_type": "execute_result",
          "data": {
            "text/plain": [
              "1.0"
            ]
          },
          "metadata": {},
          "execution_count": 11
        }
      ]
    }
  ]
}