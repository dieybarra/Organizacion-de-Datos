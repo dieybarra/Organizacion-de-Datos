{
  "nbformat": 4,
  "nbformat_minor": 0,
  "metadata": {
    "colab": {
      "name": "Ejercicio23.ipynb",
      "provenance": [],
      "collapsed_sections": []
    },
    "kernelspec": {
      "name": "python3",
      "display_name": "Python 3"
    },
    "language_info": {
      "name": "python"
    }
  },
  "cells": [
    {
      "cell_type": "markdown",
      "metadata": {
        "id": "zoFPI7_Dbcyy"
      },
      "source": [
        "#Ejercicio 23"
      ]
    },
    {
      "cell_type": "code",
      "metadata": {
        "id": "ie0r1mPRbY4Q"
      },
      "source": [
        "import pandas as pd\n",
        "import numpy as np\n",
        "\n",
        "pd.options.display.float_format = '{:20,.5f}'.format # suprimimos la notacion cientifica en los outputs\n",
        "\n",
        "import warnings\n",
        "warnings.filterwarnings('ignore')"
      ],
      "execution_count": null,
      "outputs": []
    },
    {
      "cell_type": "code",
      "metadata": {
        "id": "5Jon6-8RbqwP"
      },
      "source": [
        "from pydrive.auth import GoogleAuth\n",
        "from pydrive.drive import GoogleDrive\n",
        "from google.colab import auth\n",
        "from oauth2client.client import GoogleCredentials"
      ],
      "execution_count": null,
      "outputs": []
    },
    {
      "cell_type": "code",
      "metadata": {
        "id": "LfXV3dSLbtXy"
      },
      "source": [
        "auth.authenticate_user()\n",
        "gauth = GoogleAuth()\n",
        "gauth.credentials = GoogleCredentials.get_application_default()\n",
        "drive = GoogleDrive(gauth)"
      ],
      "execution_count": null,
      "outputs": []
    },
    {
      "cell_type": "code",
      "metadata": {
        "id": "isljF_tSmbKx"
      },
      "source": [
        "id='1l5xbJPYbcoAxpSKPxVdkQU9on6Pv2X6k'\n",
        "downloaded = drive.CreateFile({'id': id})\n",
        "downloaded.GetContentFile('texts.csv')"
      ],
      "execution_count": null,
      "outputs": []
    },
    {
      "cell_type": "code",
      "metadata": {
        "colab": {
          "base_uri": "https://localhost:8080/",
          "height": 424
        },
        "id": "GG-3pVIcmbrm",
        "outputId": "b0ef7de0-929b-4a9e-cacf-c260afcdeed7"
      },
      "source": [
        "texts = pd.read_csv('texts.csv')\n",
        "texts"
      ],
      "execution_count": null,
      "outputs": [
        {
          "output_type": "execute_result",
          "data": {
            "text/html": [
              "<div>\n",
              "<style scoped>\n",
              "    .dataframe tbody tr th:only-of-type {\n",
              "        vertical-align: middle;\n",
              "    }\n",
              "\n",
              "    .dataframe tbody tr th {\n",
              "        vertical-align: top;\n",
              "    }\n",
              "\n",
              "    .dataframe thead th {\n",
              "        text-align: right;\n",
              "    }\n",
              "</style>\n",
              "<table border=\"1\" class=\"dataframe\">\n",
              "  <thead>\n",
              "    <tr style=\"text-align: right;\">\n",
              "      <th></th>\n",
              "      <th>id</th>\n",
              "      <th>title</th>\n",
              "      <th>text</th>\n",
              "    </tr>\n",
              "  </thead>\n",
              "  <tbody>\n",
              "    <tr>\n",
              "      <th>0</th>\n",
              "      <td>50</td>\n",
              "      <td>Anacardiaceae</td>\n",
              "      <td>{{Ficha de taxón\\n| name = Anacardiáceas\\n| im...</td>\n",
              "    </tr>\n",
              "    <tr>\n",
              "      <th>1</th>\n",
              "      <td>62</td>\n",
              "      <td>Antipartícula</td>\n",
              "      <td>[[Archivo:Materia antimateria.png|thumb|200px|...</td>\n",
              "    </tr>\n",
              "    <tr>\n",
              "      <th>2</th>\n",
              "      <td>78</td>\n",
              "      <td>Año bisiesto</td>\n",
              "      <td>'''Año bisiesto''' es una expresión que deriva...</td>\n",
              "    </tr>\n",
              "    <tr>\n",
              "      <th>3</th>\n",
              "      <td>127</td>\n",
              "      <td>Avena</td>\n",
              "      <td>{{otros usos|Avena sativa|la avena común}}\\n{{...</td>\n",
              "    </tr>\n",
              "    <tr>\n",
              "      <th>4</th>\n",
              "      <td>160</td>\n",
              "      <td>Alfabeto</td>\n",
              "      <td>{{distinguir|analfabeto|alfabetización}} \\n[[A...</td>\n",
              "    </tr>\n",
              "    <tr>\n",
              "      <th>...</th>\n",
              "      <td>...</td>\n",
              "      <td>...</td>\n",
              "      <td>...</td>\n",
              "    </tr>\n",
              "    <tr>\n",
              "      <th>206602</th>\n",
              "      <td>10010394</td>\n",
              "      <td>Nicoleta-Ancuţa Bodnar</td>\n",
              "      <td>#REDIRECCIÓN [[Nicoleta-Ancuța Bodnar]]</td>\n",
              "    </tr>\n",
              "    <tr>\n",
              "      <th>206603</th>\n",
              "      <td>10010425</td>\n",
              "      <td>Sebastian Szczepański</td>\n",
              "      <td>{{Ficha de deportista\\n|nombre              = ...</td>\n",
              "    </tr>\n",
              "    <tr>\n",
              "      <th>206604</th>\n",
              "      <td>10010518</td>\n",
              "      <td>Manu (Tripura)</td>\n",
              "      <td>{{Ficha de entidad subnacional\\n|nombre comple...</td>\n",
              "    </tr>\n",
              "    <tr>\n",
              "      <th>206605</th>\n",
              "      <td>10010570</td>\n",
              "      <td>ISRU</td>\n",
              "      <td>#REDIRECCIÓN [[Utilización de recursos in situ]]</td>\n",
              "    </tr>\n",
              "    <tr>\n",
              "      <th>206606</th>\n",
              "      <td>10010580</td>\n",
              "      <td>IA (VOCALOID)</td>\n",
              "      <td>#REDIRECCIÓN [[IA -Aria on the Planetes-]]</td>\n",
              "    </tr>\n",
              "  </tbody>\n",
              "</table>\n",
              "<p>206607 rows × 3 columns</p>\n",
              "</div>"
            ],
            "text/plain": [
              "              id  ...                                               text\n",
              "0             50  ...  {{Ficha de taxón\\n| name = Anacardiáceas\\n| im...\n",
              "1             62  ...  [[Archivo:Materia antimateria.png|thumb|200px|...\n",
              "2             78  ...  '''Año bisiesto''' es una expresión que deriva...\n",
              "3            127  ...  {{otros usos|Avena sativa|la avena común}}\\n{{...\n",
              "4            160  ...  {{distinguir|analfabeto|alfabetización}} \\n[[A...\n",
              "...          ...  ...                                                ...\n",
              "206602  10010394  ...            #REDIRECCIÓN [[Nicoleta-Ancuța Bodnar]]\n",
              "206603  10010425  ...  {{Ficha de deportista\\n|nombre              = ...\n",
              "206604  10010518  ...  {{Ficha de entidad subnacional\\n|nombre comple...\n",
              "206605  10010570  ...   #REDIRECCIÓN [[Utilización de recursos in situ]]\n",
              "206606  10010580  ...         #REDIRECCIÓN [[IA -Aria on the Planetes-]]\n",
              "\n",
              "[206607 rows x 3 columns]"
            ]
          },
          "metadata": {},
          "execution_count": 11
        }
      ]
    },
    {
      "cell_type": "code",
      "metadata": {
        "id": "wx9BqXgmmeD5"
      },
      "source": [
        "texts = texts.dropna()"
      ],
      "execution_count": null,
      "outputs": []
    },
    {
      "cell_type": "code",
      "metadata": {
        "colab": {
          "base_uri": "https://localhost:8080/",
          "height": 424
        },
        "id": "vonhJC0TmwD0",
        "outputId": "56dd7075-6cee-457c-9b7c-f5bf8058992e"
      },
      "source": [
        "esta_incluido = texts[texts.apply(lambda x: x.title in x.text, axis = 1)]\n",
        "esta_incluido"
      ],
      "execution_count": null,
      "outputs": [
        {
          "output_type": "execute_result",
          "data": {
            "text/html": [
              "<div>\n",
              "<style scoped>\n",
              "    .dataframe tbody tr th:only-of-type {\n",
              "        vertical-align: middle;\n",
              "    }\n",
              "\n",
              "    .dataframe tbody tr th {\n",
              "        vertical-align: top;\n",
              "    }\n",
              "\n",
              "    .dataframe thead th {\n",
              "        text-align: right;\n",
              "    }\n",
              "</style>\n",
              "<table border=\"1\" class=\"dataframe\">\n",
              "  <thead>\n",
              "    <tr style=\"text-align: right;\">\n",
              "      <th></th>\n",
              "      <th>id</th>\n",
              "      <th>title</th>\n",
              "      <th>text</th>\n",
              "    </tr>\n",
              "  </thead>\n",
              "  <tbody>\n",
              "    <tr>\n",
              "      <th>0</th>\n",
              "      <td>50</td>\n",
              "      <td>Anacardiaceae</td>\n",
              "      <td>{{Ficha de taxón\\n| name = Anacardiáceas\\n| im...</td>\n",
              "    </tr>\n",
              "    <tr>\n",
              "      <th>2</th>\n",
              "      <td>78</td>\n",
              "      <td>Año bisiesto</td>\n",
              "      <td>'''Año bisiesto''' es una expresión que deriva...</td>\n",
              "    </tr>\n",
              "    <tr>\n",
              "      <th>3</th>\n",
              "      <td>127</td>\n",
              "      <td>Avena</td>\n",
              "      <td>{{otros usos|Avena sativa|la avena común}}\\n{{...</td>\n",
              "    </tr>\n",
              "    <tr>\n",
              "      <th>4</th>\n",
              "      <td>160</td>\n",
              "      <td>Alfabeto</td>\n",
              "      <td>{{distinguir|analfabeto|alfabetización}} \\n[[A...</td>\n",
              "    </tr>\n",
              "    <tr>\n",
              "      <th>5</th>\n",
              "      <td>179</td>\n",
              "      <td>Arundoclaytonia</td>\n",
              "      <td>{{Ficha de taxón\\n| name = ''Arundoclaytonia''...</td>\n",
              "    </tr>\n",
              "    <tr>\n",
              "      <th>...</th>\n",
              "      <td>...</td>\n",
              "      <td>...</td>\n",
              "      <td>...</td>\n",
              "    </tr>\n",
              "    <tr>\n",
              "      <th>206596</th>\n",
              "      <td>10010093</td>\n",
              "      <td>Virgin Sun Airlines</td>\n",
              "      <td>{{Ficha de aerolínea|aerolínea=Virgin Sun Airl...</td>\n",
              "    </tr>\n",
              "    <tr>\n",
              "      <th>206597</th>\n",
              "      <td>10010260</td>\n",
              "      <td>Pauline Hall</td>\n",
              "      <td>{{ficha de persona}}\\n'''Pauline Margrete Hall...</td>\n",
              "    </tr>\n",
              "    <tr>\n",
              "      <th>206600</th>\n",
              "      <td>10010357</td>\n",
              "      <td>1/6</td>\n",
              "      <td>{{Desambiguación}}\\n\\n'''1/6''' o '''{{Fracció...</td>\n",
              "    </tr>\n",
              "    <tr>\n",
              "      <th>206601</th>\n",
              "      <td>10010373</td>\n",
              "      <td>Mariano Garreta Leclercq</td>\n",
              "      <td>{{Ficha de persona\\n| nombre = Mariano Garreta...</td>\n",
              "    </tr>\n",
              "    <tr>\n",
              "      <th>206603</th>\n",
              "      <td>10010425</td>\n",
              "      <td>Sebastian Szczepański</td>\n",
              "      <td>{{Ficha de deportista\\n|nombre              = ...</td>\n",
              "    </tr>\n",
              "  </tbody>\n",
              "</table>\n",
              "<p>69412 rows × 3 columns</p>\n",
              "</div>"
            ],
            "text/plain": [
              "              id  ...                                               text\n",
              "0             50  ...  {{Ficha de taxón\\n| name = Anacardiáceas\\n| im...\n",
              "2             78  ...  '''Año bisiesto''' es una expresión que deriva...\n",
              "3            127  ...  {{otros usos|Avena sativa|la avena común}}\\n{{...\n",
              "4            160  ...  {{distinguir|analfabeto|alfabetización}} \\n[[A...\n",
              "5            179  ...  {{Ficha de taxón\\n| name = ''Arundoclaytonia''...\n",
              "...          ...  ...                                                ...\n",
              "206596  10010093  ...  {{Ficha de aerolínea|aerolínea=Virgin Sun Airl...\n",
              "206597  10010260  ...  {{ficha de persona}}\\n'''Pauline Margrete Hall...\n",
              "206600  10010357  ...  {{Desambiguación}}\\n\\n'''1/6''' o '''{{Fracció...\n",
              "206601  10010373  ...  {{Ficha de persona\\n| nombre = Mariano Garreta...\n",
              "206603  10010425  ...  {{Ficha de deportista\\n|nombre              = ...\n",
              "\n",
              "[69412 rows x 3 columns]"
            ]
          },
          "metadata": {},
          "execution_count": 13
        }
      ]
    },
    {
      "cell_type": "code",
      "metadata": {
        "colab": {
          "base_uri": "https://localhost:8080/"
        },
        "id": "uZiZBlBroBJS",
        "outputId": "300c3723-7189-4ded-baf3-97bdd6a7cc4e"
      },
      "source": [
        "resultado = len(esta_incluido)/len(texts)*100\n",
        "resultado"
      ],
      "execution_count": null,
      "outputs": [
        {
          "output_type": "execute_result",
          "data": {
            "text/plain": [
              "33.5972894482091"
            ]
          },
          "metadata": {},
          "execution_count": 14
        }
      ]
    }
  ]
}