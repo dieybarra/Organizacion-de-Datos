{
  "nbformat": 4,
  "nbformat_minor": 0,
  "metadata": {
    "colab": {
      "name": "Ejercicio33.ipynb",
      "provenance": [],
      "collapsed_sections": []
    },
    "kernelspec": {
      "name": "python3",
      "display_name": "Python 3"
    },
    "language_info": {
      "name": "python"
    }
  },
  "cells": [
    {
      "cell_type": "markdown",
      "metadata": {
        "id": "zoFPI7_Dbcyy"
      },
      "source": [
        "#Ejercicio 33"
      ]
    },
    {
      "cell_type": "code",
      "metadata": {
        "id": "ie0r1mPRbY4Q"
      },
      "source": [
        "import pandas as pd\n",
        "import numpy as np\n",
        "\n",
        "pd.options.display.float_format = '{:20,.5f}'.format # suprimimos la notacion cientifica en los outputs\n",
        "\n",
        "import warnings\n",
        "warnings.filterwarnings('ignore')"
      ],
      "execution_count": null,
      "outputs": []
    },
    {
      "cell_type": "code",
      "metadata": {
        "id": "5Jon6-8RbqwP"
      },
      "source": [
        "from pydrive.auth import GoogleAuth\n",
        "from pydrive.drive import GoogleDrive\n",
        "from google.colab import auth\n",
        "from oauth2client.client import GoogleCredentials"
      ],
      "execution_count": null,
      "outputs": []
    },
    {
      "cell_type": "code",
      "metadata": {
        "id": "LfXV3dSLbtXy"
      },
      "source": [
        "auth.authenticate_user()\n",
        "gauth = GoogleAuth()\n",
        "gauth.credentials = GoogleCredentials.get_application_default()\n",
        "drive = GoogleDrive(gauth)"
      ],
      "execution_count": null,
      "outputs": []
    },
    {
      "cell_type": "code",
      "metadata": {
        "id": "w3Cyo-NbbyTM"
      },
      "source": [
        "id='1ii6j8Mex52FFWCLa4coVX6s47GuXN0B3'\n",
        "downloaded = drive.CreateFile({'id': id})\n",
        "downloaded.GetContentFile('logs.csv')"
      ],
      "execution_count": null,
      "outputs": []
    },
    {
      "cell_type": "code",
      "metadata": {
        "colab": {
          "base_uri": "https://localhost:8080/",
          "height": 206
        },
        "id": "wXsEGSM3b6zC",
        "outputId": "67cd3995-0389-4433-b9d9-39785dd47f03"
      },
      "source": [
        "logs = pd.read_csv('logs.csv').fillna('Na')\n",
        "logs.head()"
      ],
      "execution_count": null,
      "outputs": [
        {
          "output_type": "execute_result",
          "data": {
            "text/html": [
              "<div>\n",
              "<style scoped>\n",
              "    .dataframe tbody tr th:only-of-type {\n",
              "        vertical-align: middle;\n",
              "    }\n",
              "\n",
              "    .dataframe tbody tr th {\n",
              "        vertical-align: top;\n",
              "    }\n",
              "\n",
              "    .dataframe thead th {\n",
              "        text-align: right;\n",
              "    }\n",
              "</style>\n",
              "<table border=\"1\" class=\"dataframe\">\n",
              "  <thead>\n",
              "    <tr style=\"text-align: right;\">\n",
              "      <th></th>\n",
              "      <th>item_id</th>\n",
              "      <th>timestamp</th>\n",
              "      <th>contributor_username</th>\n",
              "      <th>contributor_id</th>\n",
              "      <th>contributor_ip</th>\n",
              "      <th>comment</th>\n",
              "      <th>logtype</th>\n",
              "      <th>action</th>\n",
              "      <th>title</th>\n",
              "    </tr>\n",
              "  </thead>\n",
              "  <tbody>\n",
              "    <tr>\n",
              "      <th>0</th>\n",
              "      <td>1</td>\n",
              "      <td>2004-12-23T07:10:09Z</td>\n",
              "      <td>Sabbut</td>\n",
              "      <td>2,075.00000</td>\n",
              "      <td>Na</td>\n",
              "      <td>el contenido era: 'Si aprendés Pensamiento Cie...</td>\n",
              "      <td>delete</td>\n",
              "      <td>delete</td>\n",
              "      <td>Verificacionismo</td>\n",
              "    </tr>\n",
              "    <tr>\n",
              "      <th>1</th>\n",
              "      <td>2</td>\n",
              "      <td>2004-12-23T07:14:09Z</td>\n",
              "      <td>Sabbut</td>\n",
              "      <td>2,075.00000</td>\n",
              "      <td>Na</td>\n",
              "      <td>el contenido era: '{{destruir}}en algun lugar ...</td>\n",
              "      <td>delete</td>\n",
              "      <td>delete</td>\n",
              "      <td>Rapunzel</td>\n",
              "    </tr>\n",
              "    <tr>\n",
              "      <th>2</th>\n",
              "      <td>3</td>\n",
              "      <td>2004-12-23T07:26:10Z</td>\n",
              "      <td>Sabbut</td>\n",
              "      <td>2,075.00000</td>\n",
              "      <td>Na</td>\n",
              "      <td>el contenido era: '#REDIRECT [[Flash]]'</td>\n",
              "      <td>delete</td>\n",
              "      <td>delete</td>\n",
              "      <td>Macromedia Flash</td>\n",
              "    </tr>\n",
              "    <tr>\n",
              "      <th>3</th>\n",
              "      <td>4</td>\n",
              "      <td>2004-12-23T07:55:09Z</td>\n",
              "      <td>Sanbec</td>\n",
              "      <td>7,856.00000</td>\n",
              "      <td>Na</td>\n",
              "      <td>Sin información de origen ni de licencia. Hay ...</td>\n",
              "      <td>delete</td>\n",
              "      <td>delete</td>\n",
              "      <td>Archivo:Gnu head.png</td>\n",
              "    </tr>\n",
              "    <tr>\n",
              "      <th>4</th>\n",
              "      <td>5</td>\n",
              "      <td>2004-12-23T08:02:22Z</td>\n",
              "      <td>Sanbec</td>\n",
              "      <td>7,856.00000</td>\n",
              "      <td>Na</td>\n",
              "      <td>Sustituida por  [[commons:Image:Heckert_GNU.png]]</td>\n",
              "      <td>delete</td>\n",
              "      <td>delete</td>\n",
              "      <td>Archivo:Gnu-head-sm.jpg</td>\n",
              "    </tr>\n",
              "  </tbody>\n",
              "</table>\n",
              "</div>"
            ],
            "text/plain": [
              "   item_id             timestamp  ...  action                    title\n",
              "0        1  2004-12-23T07:10:09Z  ...  delete         Verificacionismo\n",
              "1        2  2004-12-23T07:14:09Z  ...  delete                 Rapunzel\n",
              "2        3  2004-12-23T07:26:10Z  ...  delete         Macromedia Flash\n",
              "3        4  2004-12-23T07:55:09Z  ...  delete     Archivo:Gnu head.png\n",
              "4        5  2004-12-23T08:02:22Z  ...  delete  Archivo:Gnu-head-sm.jpg\n",
              "\n",
              "[5 rows x 9 columns]"
            ]
          },
          "metadata": {},
          "execution_count": 5
        }
      ]
    },
    {
      "cell_type": "code",
      "metadata": {
        "colab": {
          "base_uri": "https://localhost:8080/",
          "height": 275
        },
        "id": "Wd2ofZ-gcNdj",
        "outputId": "82e89fb0-1eca-4159-88c1-7fdae86b2119"
      },
      "source": [
        "create = logs.loc[(logs['action']=='create') & (logs['logtype']=='create')]\n",
        "create.head()"
      ],
      "execution_count": null,
      "outputs": [
        {
          "output_type": "execute_result",
          "data": {
            "text/html": [
              "<div>\n",
              "<style scoped>\n",
              "    .dataframe tbody tr th:only-of-type {\n",
              "        vertical-align: middle;\n",
              "    }\n",
              "\n",
              "    .dataframe tbody tr th {\n",
              "        vertical-align: top;\n",
              "    }\n",
              "\n",
              "    .dataframe thead th {\n",
              "        text-align: right;\n",
              "    }\n",
              "</style>\n",
              "<table border=\"1\" class=\"dataframe\">\n",
              "  <thead>\n",
              "    <tr style=\"text-align: right;\">\n",
              "      <th></th>\n",
              "      <th>item_id</th>\n",
              "      <th>timestamp</th>\n",
              "      <th>contributor_username</th>\n",
              "      <th>contributor_id</th>\n",
              "      <th>contributor_ip</th>\n",
              "      <th>comment</th>\n",
              "      <th>logtype</th>\n",
              "      <th>action</th>\n",
              "      <th>title</th>\n",
              "    </tr>\n",
              "  </thead>\n",
              "  <tbody>\n",
              "    <tr>\n",
              "      <th>8794246</th>\n",
              "      <td>12087763</td>\n",
              "      <td>2018-06-27T23:10:54Z</td>\n",
              "      <td>InternetArchiveBot</td>\n",
              "      <td>4,704,851.00000</td>\n",
              "      <td>Na</td>\n",
              "      <td>Notificación sobre referencias alteradas que n...</td>\n",
              "      <td>create</td>\n",
              "      <td>create</td>\n",
              "      <td>Discusión:Chaudardes</td>\n",
              "    </tr>\n",
              "    <tr>\n",
              "      <th>8794247</th>\n",
              "      <td>12087764</td>\n",
              "      <td>2018-06-27T23:11:09Z</td>\n",
              "      <td>InternetArchiveBot</td>\n",
              "      <td>4,704,851.00000</td>\n",
              "      <td>Na</td>\n",
              "      <td>Notificación sobre referencias alteradas que n...</td>\n",
              "      <td>create</td>\n",
              "      <td>create</td>\n",
              "      <td>Discusión:Chaudary Muhammad Amjad</td>\n",
              "    </tr>\n",
              "    <tr>\n",
              "      <th>8794253</th>\n",
              "      <td>12087770</td>\n",
              "      <td>2018-06-27T23:14:22Z</td>\n",
              "      <td>InternetArchiveBot</td>\n",
              "      <td>4,704,851.00000</td>\n",
              "      <td>Na</td>\n",
              "      <td>Notificación sobre referencias alteradas que n...</td>\n",
              "      <td>create</td>\n",
              "      <td>create</td>\n",
              "      <td>Discusión:Chaudebonne</td>\n",
              "    </tr>\n",
              "    <tr>\n",
              "      <th>8794254</th>\n",
              "      <td>12087771</td>\n",
              "      <td>2018-06-27T23:14:40Z</td>\n",
              "      <td>Gxrrote</td>\n",
              "      <td>5,061,281.00000</td>\n",
              "      <td>Na</td>\n",
              "      <td>Página creada con «¿Qué tal? Los mensajes aquí...</td>\n",
              "      <td>create</td>\n",
              "      <td>create</td>\n",
              "      <td>Usuario discusión:Gxrrote</td>\n",
              "    </tr>\n",
              "    <tr>\n",
              "      <th>8794257</th>\n",
              "      <td>12087774</td>\n",
              "      <td>2018-06-27T23:16:29Z</td>\n",
              "      <td>Rastrojo</td>\n",
              "      <td>122,377.00000</td>\n",
              "      <td>Na</td>\n",
              "      <td>nuevo, localidad inglesa</td>\n",
              "      <td>create</td>\n",
              "      <td>create</td>\n",
              "      <td>Hitchin</td>\n",
              "    </tr>\n",
              "  </tbody>\n",
              "</table>\n",
              "</div>"
            ],
            "text/plain": [
              "          item_id  ...                              title\n",
              "8794246  12087763  ...               Discusión:Chaudardes\n",
              "8794247  12087764  ...  Discusión:Chaudary Muhammad Amjad\n",
              "8794253  12087770  ...              Discusión:Chaudebonne\n",
              "8794254  12087771  ...          Usuario discusión:Gxrrote\n",
              "8794257  12087774  ...                            Hitchin\n",
              "\n",
              "[5 rows x 9 columns]"
            ]
          },
          "metadata": {},
          "execution_count": 6
        }
      ]
    },
    {
      "cell_type": "code",
      "metadata": {
        "colab": {
          "base_uri": "https://localhost:8080/"
        },
        "id": "bJenBBC1cacv",
        "outputId": "bd534f80-9512-4384-ffcc-713a176f6518"
      },
      "source": [
        "create['comment'].isna().value_counts()"
      ],
      "execution_count": null,
      "outputs": [
        {
          "output_type": "execute_result",
          "data": {
            "text/plain": [
              "False    1322454\n",
              "Name: comment, dtype: int64"
            ]
          },
          "metadata": {},
          "execution_count": 7
        }
      ]
    },
    {
      "cell_type": "code",
      "metadata": {
        "colab": {
          "base_uri": "https://localhost:8080/",
          "height": 293
        },
        "id": "PXKePKq7cxjq",
        "outputId": "2e113421-8bbf-45ba-d67c-c6a9436e3359"
      },
      "source": [
        "discusion = create.loc[create['title'].str.contains('Discusión')]\n",
        "discusion.head()"
      ],
      "execution_count": null,
      "outputs": [
        {
          "output_type": "execute_result",
          "data": {
            "text/html": [
              "<div>\n",
              "<style scoped>\n",
              "    .dataframe tbody tr th:only-of-type {\n",
              "        vertical-align: middle;\n",
              "    }\n",
              "\n",
              "    .dataframe tbody tr th {\n",
              "        vertical-align: top;\n",
              "    }\n",
              "\n",
              "    .dataframe thead th {\n",
              "        text-align: right;\n",
              "    }\n",
              "</style>\n",
              "<table border=\"1\" class=\"dataframe\">\n",
              "  <thead>\n",
              "    <tr style=\"text-align: right;\">\n",
              "      <th></th>\n",
              "      <th>item_id</th>\n",
              "      <th>timestamp</th>\n",
              "      <th>contributor_username</th>\n",
              "      <th>contributor_id</th>\n",
              "      <th>contributor_ip</th>\n",
              "      <th>comment</th>\n",
              "      <th>logtype</th>\n",
              "      <th>action</th>\n",
              "      <th>title</th>\n",
              "    </tr>\n",
              "  </thead>\n",
              "  <tbody>\n",
              "    <tr>\n",
              "      <th>8794246</th>\n",
              "      <td>12087763</td>\n",
              "      <td>2018-06-27T23:10:54Z</td>\n",
              "      <td>InternetArchiveBot</td>\n",
              "      <td>4,704,851.00000</td>\n",
              "      <td>Na</td>\n",
              "      <td>Notificación sobre referencias alteradas que n...</td>\n",
              "      <td>create</td>\n",
              "      <td>create</td>\n",
              "      <td>Discusión:Chaudardes</td>\n",
              "    </tr>\n",
              "    <tr>\n",
              "      <th>8794247</th>\n",
              "      <td>12087764</td>\n",
              "      <td>2018-06-27T23:11:09Z</td>\n",
              "      <td>InternetArchiveBot</td>\n",
              "      <td>4,704,851.00000</td>\n",
              "      <td>Na</td>\n",
              "      <td>Notificación sobre referencias alteradas que n...</td>\n",
              "      <td>create</td>\n",
              "      <td>create</td>\n",
              "      <td>Discusión:Chaudary Muhammad Amjad</td>\n",
              "    </tr>\n",
              "    <tr>\n",
              "      <th>8794253</th>\n",
              "      <td>12087770</td>\n",
              "      <td>2018-06-27T23:14:22Z</td>\n",
              "      <td>InternetArchiveBot</td>\n",
              "      <td>4,704,851.00000</td>\n",
              "      <td>Na</td>\n",
              "      <td>Notificación sobre referencias alteradas que n...</td>\n",
              "      <td>create</td>\n",
              "      <td>create</td>\n",
              "      <td>Discusión:Chaudebonne</td>\n",
              "    </tr>\n",
              "    <tr>\n",
              "      <th>8794258</th>\n",
              "      <td>12087775</td>\n",
              "      <td>2018-06-27T23:17:36Z</td>\n",
              "      <td>InternetArchiveBot</td>\n",
              "      <td>4,704,851.00000</td>\n",
              "      <td>Na</td>\n",
              "      <td>Notificación sobre referencias alteradas que n...</td>\n",
              "      <td>create</td>\n",
              "      <td>create</td>\n",
              "      <td>Discusión:Chaudefonds-sur-Layon</td>\n",
              "    </tr>\n",
              "    <tr>\n",
              "      <th>8794260</th>\n",
              "      <td>12087777</td>\n",
              "      <td>2018-06-27T23:20:50Z</td>\n",
              "      <td>InternetArchiveBot</td>\n",
              "      <td>4,704,851.00000</td>\n",
              "      <td>Na</td>\n",
              "      <td>Notificación sobre referencias alteradas que n...</td>\n",
              "      <td>create</td>\n",
              "      <td>create</td>\n",
              "      <td>Discusión:Chaudefontaine (Marne)</td>\n",
              "    </tr>\n",
              "  </tbody>\n",
              "</table>\n",
              "</div>"
            ],
            "text/plain": [
              "          item_id  ...                              title\n",
              "8794246  12087763  ...               Discusión:Chaudardes\n",
              "8794247  12087764  ...  Discusión:Chaudary Muhammad Amjad\n",
              "8794253  12087770  ...              Discusión:Chaudebonne\n",
              "8794258  12087775  ...    Discusión:Chaudefonds-sur-Layon\n",
              "8794260  12087777  ...   Discusión:Chaudefontaine (Marne)\n",
              "\n",
              "[5 rows x 9 columns]"
            ]
          },
          "metadata": {},
          "execution_count": 8
        }
      ]
    },
    {
      "cell_type": "code",
      "metadata": {
        "colab": {
          "base_uri": "https://localhost:8080/",
          "height": 275
        },
        "id": "46K3LkL0c1ab",
        "outputId": "9fe45950-0b2c-4d91-8107-74029c6cd1f9"
      },
      "source": [
        "discusion['timestamp']=pd.to_datetime(create['timestamp'])\n",
        "create.head()"
      ],
      "execution_count": null,
      "outputs": [
        {
          "output_type": "execute_result",
          "data": {
            "text/html": [
              "<div>\n",
              "<style scoped>\n",
              "    .dataframe tbody tr th:only-of-type {\n",
              "        vertical-align: middle;\n",
              "    }\n",
              "\n",
              "    .dataframe tbody tr th {\n",
              "        vertical-align: top;\n",
              "    }\n",
              "\n",
              "    .dataframe thead th {\n",
              "        text-align: right;\n",
              "    }\n",
              "</style>\n",
              "<table border=\"1\" class=\"dataframe\">\n",
              "  <thead>\n",
              "    <tr style=\"text-align: right;\">\n",
              "      <th></th>\n",
              "      <th>item_id</th>\n",
              "      <th>timestamp</th>\n",
              "      <th>contributor_username</th>\n",
              "      <th>contributor_id</th>\n",
              "      <th>contributor_ip</th>\n",
              "      <th>comment</th>\n",
              "      <th>logtype</th>\n",
              "      <th>action</th>\n",
              "      <th>title</th>\n",
              "    </tr>\n",
              "  </thead>\n",
              "  <tbody>\n",
              "    <tr>\n",
              "      <th>8794246</th>\n",
              "      <td>12087763</td>\n",
              "      <td>2018-06-27T23:10:54Z</td>\n",
              "      <td>InternetArchiveBot</td>\n",
              "      <td>4,704,851.00000</td>\n",
              "      <td>Na</td>\n",
              "      <td>Notificación sobre referencias alteradas que n...</td>\n",
              "      <td>create</td>\n",
              "      <td>create</td>\n",
              "      <td>Discusión:Chaudardes</td>\n",
              "    </tr>\n",
              "    <tr>\n",
              "      <th>8794247</th>\n",
              "      <td>12087764</td>\n",
              "      <td>2018-06-27T23:11:09Z</td>\n",
              "      <td>InternetArchiveBot</td>\n",
              "      <td>4,704,851.00000</td>\n",
              "      <td>Na</td>\n",
              "      <td>Notificación sobre referencias alteradas que n...</td>\n",
              "      <td>create</td>\n",
              "      <td>create</td>\n",
              "      <td>Discusión:Chaudary Muhammad Amjad</td>\n",
              "    </tr>\n",
              "    <tr>\n",
              "      <th>8794253</th>\n",
              "      <td>12087770</td>\n",
              "      <td>2018-06-27T23:14:22Z</td>\n",
              "      <td>InternetArchiveBot</td>\n",
              "      <td>4,704,851.00000</td>\n",
              "      <td>Na</td>\n",
              "      <td>Notificación sobre referencias alteradas que n...</td>\n",
              "      <td>create</td>\n",
              "      <td>create</td>\n",
              "      <td>Discusión:Chaudebonne</td>\n",
              "    </tr>\n",
              "    <tr>\n",
              "      <th>8794254</th>\n",
              "      <td>12087771</td>\n",
              "      <td>2018-06-27T23:14:40Z</td>\n",
              "      <td>Gxrrote</td>\n",
              "      <td>5,061,281.00000</td>\n",
              "      <td>Na</td>\n",
              "      <td>Página creada con «¿Qué tal? Los mensajes aquí...</td>\n",
              "      <td>create</td>\n",
              "      <td>create</td>\n",
              "      <td>Usuario discusión:Gxrrote</td>\n",
              "    </tr>\n",
              "    <tr>\n",
              "      <th>8794257</th>\n",
              "      <td>12087774</td>\n",
              "      <td>2018-06-27T23:16:29Z</td>\n",
              "      <td>Rastrojo</td>\n",
              "      <td>122,377.00000</td>\n",
              "      <td>Na</td>\n",
              "      <td>nuevo, localidad inglesa</td>\n",
              "      <td>create</td>\n",
              "      <td>create</td>\n",
              "      <td>Hitchin</td>\n",
              "    </tr>\n",
              "  </tbody>\n",
              "</table>\n",
              "</div>"
            ],
            "text/plain": [
              "          item_id  ...                              title\n",
              "8794246  12087763  ...               Discusión:Chaudardes\n",
              "8794247  12087764  ...  Discusión:Chaudary Muhammad Amjad\n",
              "8794253  12087770  ...              Discusión:Chaudebonne\n",
              "8794254  12087771  ...          Usuario discusión:Gxrrote\n",
              "8794257  12087774  ...                            Hitchin\n",
              "\n",
              "[5 rows x 9 columns]"
            ]
          },
          "metadata": {},
          "execution_count": 9
        }
      ]
    },
    {
      "cell_type": "code",
      "metadata": {
        "colab": {
          "base_uri": "https://localhost:8080/",
          "height": 81
        },
        "id": "Qe6cSi41c-b-",
        "outputId": "0f5dafcf-a8e6-41d3-8e09-e2e82ef0897c"
      },
      "source": [
        "resultado = discusion.nsmallest(1,'timestamp')\n",
        "resultado"
      ],
      "execution_count": null,
      "outputs": [
        {
          "output_type": "execute_result",
          "data": {
            "text/html": [
              "<div>\n",
              "<style scoped>\n",
              "    .dataframe tbody tr th:only-of-type {\n",
              "        vertical-align: middle;\n",
              "    }\n",
              "\n",
              "    .dataframe tbody tr th {\n",
              "        vertical-align: top;\n",
              "    }\n",
              "\n",
              "    .dataframe thead th {\n",
              "        text-align: right;\n",
              "    }\n",
              "</style>\n",
              "<table border=\"1\" class=\"dataframe\">\n",
              "  <thead>\n",
              "    <tr style=\"text-align: right;\">\n",
              "      <th></th>\n",
              "      <th>item_id</th>\n",
              "      <th>timestamp</th>\n",
              "      <th>contributor_username</th>\n",
              "      <th>contributor_id</th>\n",
              "      <th>contributor_ip</th>\n",
              "      <th>comment</th>\n",
              "      <th>logtype</th>\n",
              "      <th>action</th>\n",
              "      <th>title</th>\n",
              "    </tr>\n",
              "  </thead>\n",
              "  <tbody>\n",
              "    <tr>\n",
              "      <th>8794246</th>\n",
              "      <td>12087763</td>\n",
              "      <td>2018-06-27 23:10:54+00:00</td>\n",
              "      <td>InternetArchiveBot</td>\n",
              "      <td>4,704,851.00000</td>\n",
              "      <td>Na</td>\n",
              "      <td>Notificación sobre referencias alteradas que n...</td>\n",
              "      <td>create</td>\n",
              "      <td>create</td>\n",
              "      <td>Discusión:Chaudardes</td>\n",
              "    </tr>\n",
              "  </tbody>\n",
              "</table>\n",
              "</div>"
            ],
            "text/plain": [
              "          item_id                 timestamp  ...  action                 title\n",
              "8794246  12087763 2018-06-27 23:10:54+00:00  ...  create  Discusión:Chaudardes\n",
              "\n",
              "[1 rows x 9 columns]"
            ]
          },
          "metadata": {},
          "execution_count": 11
        }
      ]
    }
  ]
}