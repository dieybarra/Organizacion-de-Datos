{
  "nbformat": 4,
  "nbformat_minor": 0,
  "metadata": {
    "colab": {
      "name": "Ejercicio22.ipynb",
      "provenance": [],
      "collapsed_sections": []
    },
    "kernelspec": {
      "name": "python3",
      "display_name": "Python 3"
    },
    "language_info": {
      "name": "python"
    }
  },
  "cells": [
    {
      "cell_type": "markdown",
      "metadata": {
        "id": "zoFPI7_Dbcyy"
      },
      "source": [
        "#Ejercicio 22\n"
      ]
    },
    {
      "cell_type": "code",
      "metadata": {
        "id": "ie0r1mPRbY4Q"
      },
      "source": [
        "import pandas as pd\n",
        "import numpy as np\n",
        "\n",
        "pd.options.display.float_format = '{:20,.5f}'.format # suprimimos la notacion cientifica en los outputs\n",
        "\n",
        "import warnings\n",
        "warnings.filterwarnings('ignore')"
      ],
      "execution_count": null,
      "outputs": []
    },
    {
      "cell_type": "code",
      "metadata": {
        "id": "5Jon6-8RbqwP"
      },
      "source": [
        "from pydrive.auth import GoogleAuth\n",
        "from pydrive.drive import GoogleDrive\n",
        "from google.colab import auth\n",
        "from oauth2client.client import GoogleCredentials"
      ],
      "execution_count": null,
      "outputs": []
    },
    {
      "cell_type": "code",
      "metadata": {
        "id": "LfXV3dSLbtXy"
      },
      "source": [
        "auth.authenticate_user()\n",
        "gauth = GoogleAuth()\n",
        "gauth.credentials = GoogleCredentials.get_application_default()\n",
        "drive = GoogleDrive(gauth)"
      ],
      "execution_count": null,
      "outputs": []
    },
    {
      "cell_type": "code",
      "metadata": {
        "id": "MGXXrIJae-E0"
      },
      "source": [
        "id='1k3iTFERn35WYA9zWpPMvzdnSjCdsyWaF'\n",
        "downloaded = drive.CreateFile({'id': id})\n",
        "downloaded.GetContentFile('geotags.csv')"
      ],
      "execution_count": null,
      "outputs": []
    },
    {
      "cell_type": "code",
      "metadata": {
        "colab": {
          "base_uri": "https://localhost:8080/",
          "height": 206
        },
        "id": "ZTIzZynTfHcp",
        "outputId": "2168a2bc-bb1e-4def-cf79-1284d2aaf02c"
      },
      "source": [
        "geotags = pd.read_csv('geotags.csv').fillna('Na')\n",
        "geotags.head()"
      ],
      "execution_count": null,
      "outputs": [
        {
          "output_type": "execute_result",
          "data": {
            "text/html": [
              "<div>\n",
              "<style scoped>\n",
              "    .dataframe tbody tr th:only-of-type {\n",
              "        vertical-align: middle;\n",
              "    }\n",
              "\n",
              "    .dataframe tbody tr th {\n",
              "        vertical-align: top;\n",
              "    }\n",
              "\n",
              "    .dataframe thead th {\n",
              "        text-align: right;\n",
              "    }\n",
              "</style>\n",
              "<table border=\"1\" class=\"dataframe\">\n",
              "  <thead>\n",
              "    <tr style=\"text-align: right;\">\n",
              "      <th></th>\n",
              "      <th>gt_id</th>\n",
              "      <th>gt_page_id</th>\n",
              "      <th>gt_globe</th>\n",
              "      <th>gt_primary</th>\n",
              "      <th>gt_lat</th>\n",
              "      <th>gt_lon</th>\n",
              "      <th>gt_dim</th>\n",
              "      <th>gt_type</th>\n",
              "      <th>gt_name</th>\n",
              "      <th>gt_country</th>\n",
              "      <th>gt_region</th>\n",
              "    </tr>\n",
              "  </thead>\n",
              "  <tbody>\n",
              "    <tr>\n",
              "      <th>0</th>\n",
              "      <td>158041</td>\n",
              "      <td>4328020</td>\n",
              "      <td>earth</td>\n",
              "      <td>0</td>\n",
              "      <td>41.50750</td>\n",
              "      <td>-5.81750</td>\n",
              "      <td>1000</td>\n",
              "      <td>Na</td>\n",
              "      <td>Na</td>\n",
              "      <td>Na</td>\n",
              "      <td>Na</td>\n",
              "    </tr>\n",
              "    <tr>\n",
              "      <th>1</th>\n",
              "      <td>5844377</td>\n",
              "      <td>4670424</td>\n",
              "      <td>earth</td>\n",
              "      <td>0</td>\n",
              "      <td>13.73800</td>\n",
              "      <td>-89.29200</td>\n",
              "      <td>10000</td>\n",
              "      <td>city</td>\n",
              "      <td>Na</td>\n",
              "      <td>Na</td>\n",
              "      <td>Na</td>\n",
              "    </tr>\n",
              "    <tr>\n",
              "      <th>2</th>\n",
              "      <td>5844381</td>\n",
              "      <td>4670424</td>\n",
              "      <td>earth</td>\n",
              "      <td>0</td>\n",
              "      <td>13.70200</td>\n",
              "      <td>-89.20800</td>\n",
              "      <td>10000</td>\n",
              "      <td>city</td>\n",
              "      <td>Na</td>\n",
              "      <td>Na</td>\n",
              "      <td>Na</td>\n",
              "    </tr>\n",
              "    <tr>\n",
              "      <th>3</th>\n",
              "      <td>5844383</td>\n",
              "      <td>4670424</td>\n",
              "      <td>earth</td>\n",
              "      <td>0</td>\n",
              "      <td>13.40000</td>\n",
              "      <td>-89.75000</td>\n",
              "      <td>10000</td>\n",
              "      <td>city</td>\n",
              "      <td>Na</td>\n",
              "      <td>Na</td>\n",
              "      <td>Na</td>\n",
              "    </tr>\n",
              "    <tr>\n",
              "      <th>4</th>\n",
              "      <td>5844388</td>\n",
              "      <td>4670424</td>\n",
              "      <td>earth</td>\n",
              "      <td>0</td>\n",
              "      <td>12.85000</td>\n",
              "      <td>-88.00000</td>\n",
              "      <td>10000</td>\n",
              "      <td>city</td>\n",
              "      <td>Na</td>\n",
              "      <td>Na</td>\n",
              "      <td>Na</td>\n",
              "    </tr>\n",
              "  </tbody>\n",
              "</table>\n",
              "</div>"
            ],
            "text/plain": [
              "     gt_id  gt_page_id gt_globe  ...  gt_name  gt_country  gt_region\n",
              "0   158041     4328020    earth  ...       Na          Na         Na\n",
              "1  5844377     4670424    earth  ...       Na          Na         Na\n",
              "2  5844381     4670424    earth  ...       Na          Na         Na\n",
              "3  5844383     4670424    earth  ...       Na          Na         Na\n",
              "4  5844388     4670424    earth  ...       Na          Na         Na\n",
              "\n",
              "[5 rows x 11 columns]"
            ]
          },
          "metadata": {},
          "execution_count": 7
        }
      ]
    },
    {
      "cell_type": "code",
      "metadata": {
        "colab": {
          "base_uri": "https://localhost:8080/"
        },
        "id": "NDhV3_uEiUYL",
        "outputId": "a3811788-cce4-4265-e227-1575432d35a3"
      },
      "source": [
        "geotags.dtypes"
      ],
      "execution_count": null,
      "outputs": [
        {
          "output_type": "execute_result",
          "data": {
            "text/plain": [
              "gt_id           int64\n",
              "gt_page_id      int64\n",
              "gt_globe       object\n",
              "gt_primary      int64\n",
              "gt_lat        float64\n",
              "gt_lon        float64\n",
              "gt_dim          int64\n",
              "gt_type        object\n",
              "gt_name        object\n",
              "gt_country     object\n",
              "gt_region      object\n",
              "dtype: object"
            ]
          },
          "metadata": {},
          "execution_count": 9
        }
      ]
    },
    {
      "cell_type": "markdown",
      "metadata": {
        "id": "Y03FGq1siqUn"
      },
      "source": [
        "Mi lugar favorito es Mar del Plata\n",
        "\n",
        "Latitud: -38.0033 Longitud: -57.5528"
      ]
    },
    {
      "cell_type": "code",
      "metadata": {
        "colab": {
          "base_uri": "https://localhost:8080/",
          "height": 206
        },
        "id": "p-4TbJyGibnd",
        "outputId": "5af15826-ede5-43ad-b8fe-70d7a245892f"
      },
      "source": [
        "geotags['distancia'] = ((geotags['gt_lat'] - (-38.0033))**2 + (geotags['gt_lon'] - (-57.5528))**2)**(1/2)\n",
        "geotags.head()"
      ],
      "execution_count": null,
      "outputs": [
        {
          "output_type": "execute_result",
          "data": {
            "text/html": [
              "<div>\n",
              "<style scoped>\n",
              "    .dataframe tbody tr th:only-of-type {\n",
              "        vertical-align: middle;\n",
              "    }\n",
              "\n",
              "    .dataframe tbody tr th {\n",
              "        vertical-align: top;\n",
              "    }\n",
              "\n",
              "    .dataframe thead th {\n",
              "        text-align: right;\n",
              "    }\n",
              "</style>\n",
              "<table border=\"1\" class=\"dataframe\">\n",
              "  <thead>\n",
              "    <tr style=\"text-align: right;\">\n",
              "      <th></th>\n",
              "      <th>gt_id</th>\n",
              "      <th>gt_page_id</th>\n",
              "      <th>gt_globe</th>\n",
              "      <th>gt_primary</th>\n",
              "      <th>gt_lat</th>\n",
              "      <th>gt_lon</th>\n",
              "      <th>gt_dim</th>\n",
              "      <th>gt_type</th>\n",
              "      <th>gt_name</th>\n",
              "      <th>gt_country</th>\n",
              "      <th>gt_region</th>\n",
              "      <th>distancia</th>\n",
              "    </tr>\n",
              "  </thead>\n",
              "  <tbody>\n",
              "    <tr>\n",
              "      <th>0</th>\n",
              "      <td>158041</td>\n",
              "      <td>4328020</td>\n",
              "      <td>earth</td>\n",
              "      <td>0</td>\n",
              "      <td>41.50750</td>\n",
              "      <td>-5.81750</td>\n",
              "      <td>1000</td>\n",
              "      <td>Na</td>\n",
              "      <td>Na</td>\n",
              "      <td>Na</td>\n",
              "      <td>Na</td>\n",
              "      <td>94.86047</td>\n",
              "    </tr>\n",
              "    <tr>\n",
              "      <th>1</th>\n",
              "      <td>5844377</td>\n",
              "      <td>4670424</td>\n",
              "      <td>earth</td>\n",
              "      <td>0</td>\n",
              "      <td>13.73800</td>\n",
              "      <td>-89.29200</td>\n",
              "      <td>10000</td>\n",
              "      <td>city</td>\n",
              "      <td>Na</td>\n",
              "      <td>Na</td>\n",
              "      <td>Na</td>\n",
              "      <td>60.70040</td>\n",
              "    </tr>\n",
              "    <tr>\n",
              "      <th>2</th>\n",
              "      <td>5844381</td>\n",
              "      <td>4670424</td>\n",
              "      <td>earth</td>\n",
              "      <td>0</td>\n",
              "      <td>13.70200</td>\n",
              "      <td>-89.20800</td>\n",
              "      <td>10000</td>\n",
              "      <td>city</td>\n",
              "      <td>Na</td>\n",
              "      <td>Na</td>\n",
              "      <td>Na</td>\n",
              "      <td>60.62582</td>\n",
              "    </tr>\n",
              "    <tr>\n",
              "      <th>3</th>\n",
              "      <td>5844383</td>\n",
              "      <td>4670424</td>\n",
              "      <td>earth</td>\n",
              "      <td>0</td>\n",
              "      <td>13.40000</td>\n",
              "      <td>-89.75000</td>\n",
              "      <td>10000</td>\n",
              "      <td>city</td>\n",
              "      <td>Na</td>\n",
              "      <td>Na</td>\n",
              "      <td>Na</td>\n",
              "      <td>60.65442</td>\n",
              "    </tr>\n",
              "    <tr>\n",
              "      <th>4</th>\n",
              "      <td>5844388</td>\n",
              "      <td>4670424</td>\n",
              "      <td>earth</td>\n",
              "      <td>0</td>\n",
              "      <td>12.85000</td>\n",
              "      <td>-88.00000</td>\n",
              "      <td>10000</td>\n",
              "      <td>city</td>\n",
              "      <td>Na</td>\n",
              "      <td>Na</td>\n",
              "      <td>Na</td>\n",
              "      <td>59.27133</td>\n",
              "    </tr>\n",
              "  </tbody>\n",
              "</table>\n",
              "</div>"
            ],
            "text/plain": [
              "     gt_id  gt_page_id gt_globe  ...  gt_country  gt_region            distancia\n",
              "0   158041     4328020    earth  ...          Na         Na             94.86047\n",
              "1  5844377     4670424    earth  ...          Na         Na             60.70040\n",
              "2  5844381     4670424    earth  ...          Na         Na             60.62582\n",
              "3  5844383     4670424    earth  ...          Na         Na             60.65442\n",
              "4  5844388     4670424    earth  ...          Na         Na             59.27133\n",
              "\n",
              "[5 rows x 12 columns]"
            ]
          },
          "metadata": {},
          "execution_count": 10
        }
      ]
    },
    {
      "cell_type": "code",
      "metadata": {
        "colab": {
          "base_uri": "https://localhost:8080/",
          "height": 81
        },
        "id": "Qgj6LuFri2w9",
        "outputId": "ec46d398-64be-49d2-beab-00e87c72075f"
      },
      "source": [
        "mascercano = geotags.nsmallest(1, 'distancia')\n",
        "mascercano"
      ],
      "execution_count": null,
      "outputs": [
        {
          "output_type": "execute_result",
          "data": {
            "text/html": [
              "<div>\n",
              "<style scoped>\n",
              "    .dataframe tbody tr th:only-of-type {\n",
              "        vertical-align: middle;\n",
              "    }\n",
              "\n",
              "    .dataframe tbody tr th {\n",
              "        vertical-align: top;\n",
              "    }\n",
              "\n",
              "    .dataframe thead th {\n",
              "        text-align: right;\n",
              "    }\n",
              "</style>\n",
              "<table border=\"1\" class=\"dataframe\">\n",
              "  <thead>\n",
              "    <tr style=\"text-align: right;\">\n",
              "      <th></th>\n",
              "      <th>gt_id</th>\n",
              "      <th>gt_page_id</th>\n",
              "      <th>gt_globe</th>\n",
              "      <th>gt_primary</th>\n",
              "      <th>gt_lat</th>\n",
              "      <th>gt_lon</th>\n",
              "      <th>gt_dim</th>\n",
              "      <th>gt_type</th>\n",
              "      <th>gt_name</th>\n",
              "      <th>gt_country</th>\n",
              "      <th>gt_region</th>\n",
              "      <th>distancia</th>\n",
              "    </tr>\n",
              "  </thead>\n",
              "  <tbody>\n",
              "    <tr>\n",
              "      <th>76079</th>\n",
              "      <td>135730761</td>\n",
              "      <td>384677</td>\n",
              "      <td>earth</td>\n",
              "      <td>1</td>\n",
              "      <td>-38.00333</td>\n",
              "      <td>-57.55278</td>\n",
              "      <td>10000</td>\n",
              "      <td>city</td>\n",
              "      <td>Na</td>\n",
              "      <td>Na</td>\n",
              "      <td>Na</td>\n",
              "      <td>0.00004</td>\n",
              "    </tr>\n",
              "  </tbody>\n",
              "</table>\n",
              "</div>"
            ],
            "text/plain": [
              "           gt_id  gt_page_id gt_globe  ...  gt_country  gt_region            distancia\n",
              "76079  135730761      384677    earth  ...          Na         Na              0.00004\n",
              "\n",
              "[1 rows x 12 columns]"
            ]
          },
          "metadata": {},
          "execution_count": 17
        }
      ]
    },
    {
      "cell_type": "code",
      "metadata": {
        "id": "dahvawsAi95a"
      },
      "source": [
        "id='1oS2m872fr6796N_DgVyQ1hUvGBqJb2nR'\n",
        "downloaded = drive.CreateFile({'id': id})\n",
        "downloaded.GetContentFile('contents.csv')"
      ],
      "execution_count": null,
      "outputs": []
    },
    {
      "cell_type": "code",
      "metadata": {
        "colab": {
          "base_uri": "https://localhost:8080/",
          "height": 295
        },
        "id": "iponJI1mjN0h",
        "outputId": "bdd89d52-fdf2-4892-b7d4-1072ed538e21"
      },
      "source": [
        "contents = pd.read_csv('contents.csv')\n",
        "contents.head()"
      ],
      "execution_count": null,
      "outputs": [
        {
          "output_type": "execute_result",
          "data": {
            "text/html": [
              "<div>\n",
              "<style scoped>\n",
              "    .dataframe tbody tr th:only-of-type {\n",
              "        vertical-align: middle;\n",
              "    }\n",
              "\n",
              "    .dataframe tbody tr th {\n",
              "        vertical-align: top;\n",
              "    }\n",
              "\n",
              "    .dataframe thead th {\n",
              "        text-align: right;\n",
              "    }\n",
              "</style>\n",
              "<table border=\"1\" class=\"dataframe\">\n",
              "  <thead>\n",
              "    <tr style=\"text-align: right;\">\n",
              "      <th></th>\n",
              "      <th>title</th>\n",
              "      <th>id</th>\n",
              "      <th>namespace</th>\n",
              "      <th>revision_id</th>\n",
              "      <th>parent_revision</th>\n",
              "      <th>revision_timestamp</th>\n",
              "      <th>revisor_username</th>\n",
              "      <th>revisor_id</th>\n",
              "      <th>revisor_ip</th>\n",
              "      <th>revisor_comment</th>\n",
              "    </tr>\n",
              "  </thead>\n",
              "  <tbody>\n",
              "    <tr>\n",
              "      <th>0</th>\n",
              "      <td>Wikipedia:Artículos solicitados</td>\n",
              "      <td>5</td>\n",
              "      <td>4</td>\n",
              "      <td>132533307</td>\n",
              "      <td>132,516,631.00000</td>\n",
              "      <td>2021-01-19T18:40:34Z</td>\n",
              "      <td>Metrónomo</td>\n",
              "      <td>1,708,233.00000</td>\n",
              "      <td>NaN</td>\n",
              "      <td>Así esta mejor</td>\n",
              "    </tr>\n",
              "    <tr>\n",
              "      <th>1</th>\n",
              "      <td>Andorra</td>\n",
              "      <td>7</td>\n",
              "      <td>0</td>\n",
              "      <td>138035057</td>\n",
              "      <td>138,027,475.00000</td>\n",
              "      <td>2021-08-31T18:27:01Z</td>\n",
              "      <td>NaN</td>\n",
              "      <td>nan</td>\n",
              "      <td>2800:CD0:FC1B:A900:C5A4:9E81:7175:2ED2</td>\n",
              "      <td>Añadir contenido</td>\n",
              "    </tr>\n",
              "    <tr>\n",
              "      <th>2</th>\n",
              "      <td>Argentina</td>\n",
              "      <td>10</td>\n",
              "      <td>0</td>\n",
              "      <td>137966826</td>\n",
              "      <td>137,825,165.00000</td>\n",
              "      <td>2021-08-28T17:17:54Z</td>\n",
              "      <td>Traitrich</td>\n",
              "      <td>4,642,283.00000</td>\n",
              "      <td>NaN</td>\n",
              "      <td>Reemplazos con [[Usuario:Benjavalero/Replacer|...</td>\n",
              "    </tr>\n",
              "    <tr>\n",
              "      <th>3</th>\n",
              "      <td>Geografía de Andorra</td>\n",
              "      <td>15</td>\n",
              "      <td>0</td>\n",
              "      <td>137986788</td>\n",
              "      <td>133,666,383.00000</td>\n",
              "      <td>2021-08-29T17:16:00Z</td>\n",
              "      <td>Lojwe</td>\n",
              "      <td>5,338,508.00000</td>\n",
              "      <td>NaN</td>\n",
              "      <td>Reemplazos con [[Usuario:Benjavalero/Replacer|...</td>\n",
              "    </tr>\n",
              "    <tr>\n",
              "      <th>4</th>\n",
              "      <td>Demografía de Andorra</td>\n",
              "      <td>17</td>\n",
              "      <td>0</td>\n",
              "      <td>130869554</td>\n",
              "      <td>129,413,188.00000</td>\n",
              "      <td>2020-11-12T19:56:15Z</td>\n",
              "      <td>Jialxv</td>\n",
              "      <td>3,615,366.00000</td>\n",
              "      <td>NaN</td>\n",
              "      <td>Correcciones ortográficas con [[Usuario:Benjav...</td>\n",
              "    </tr>\n",
              "  </tbody>\n",
              "</table>\n",
              "</div>"
            ],
            "text/plain": [
              "                             title  ...                                    revisor_comment\n",
              "0  Wikipedia:Artículos solicitados  ...                                     Así esta mejor\n",
              "1                          Andorra  ...                                   Añadir contenido\n",
              "2                        Argentina  ...  Reemplazos con [[Usuario:Benjavalero/Replacer|...\n",
              "3             Geografía de Andorra  ...  Reemplazos con [[Usuario:Benjavalero/Replacer|...\n",
              "4            Demografía de Andorra  ...  Correcciones ortográficas con [[Usuario:Benjav...\n",
              "\n",
              "[5 rows x 10 columns]"
            ]
          },
          "metadata": {},
          "execution_count": 13
        }
      ]
    },
    {
      "cell_type": "code",
      "metadata": {
        "colab": {
          "base_uri": "https://localhost:8080/"
        },
        "id": "HLA0jQipjWvM",
        "outputId": "2f747f17-0670-410f-f81d-0442867f9063"
      },
      "source": [
        "resultado = mascercano.merge(contents, how='inner', left_on = 'gt_page_id', right_on='id').title\n",
        "resultado"
      ],
      "execution_count": null,
      "outputs": [
        {
          "output_type": "execute_result",
          "data": {
            "text/plain": [
              "0    Partido de General Pueyrredón\n",
              "Name: title, dtype: object"
            ]
          },
          "metadata": {},
          "execution_count": 18
        }
      ]
    }
  ]
}