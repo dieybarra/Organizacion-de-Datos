{
  "nbformat": 4,
  "nbformat_minor": 0,
  "metadata": {
    "colab": {
      "name": "Ejercicio57.ipynb",
      "provenance": [],
      "collapsed_sections": []
    },
    "kernelspec": {
      "name": "python3",
      "display_name": "Python 3"
    },
    "language_info": {
      "name": "python"
    }
  },
  "cells": [
    {
      "cell_type": "markdown",
      "metadata": {
        "id": "zoFPI7_Dbcyy"
      },
      "source": [
        "#Ejercicio 57\n"
      ]
    },
    {
      "cell_type": "code",
      "metadata": {
        "id": "ie0r1mPRbY4Q"
      },
      "source": [
        "import pandas as pd\n",
        "import numpy as np\n",
        "import math\n",
        "from scipy.stats import entropy\n",
        "from scipy.special import kl_div\n",
        "\n",
        "pd.options.display.float_format = '{:20,.5f}'.format # suprimimos la notacion cientifica en los outputs\n",
        "\n",
        "import warnings\n",
        "warnings.filterwarnings('ignore')"
      ],
      "execution_count": null,
      "outputs": []
    },
    {
      "cell_type": "code",
      "metadata": {
        "id": "5Jon6-8RbqwP"
      },
      "source": [
        "from pydrive.auth import GoogleAuth\n",
        "from pydrive.drive import GoogleDrive\n",
        "from google.colab import auth\n",
        "from oauth2client.client import GoogleCredentials"
      ],
      "execution_count": null,
      "outputs": []
    },
    {
      "cell_type": "code",
      "metadata": {
        "id": "LfXV3dSLbtXy"
      },
      "source": [
        "auth.authenticate_user()\n",
        "gauth = GoogleAuth()\n",
        "gauth.credentials = GoogleCredentials.get_application_default()\n",
        "drive = GoogleDrive(gauth)"
      ],
      "execution_count": null,
      "outputs": []
    },
    {
      "cell_type": "code",
      "metadata": {
        "id": "ispyb4ulwRmW"
      },
      "source": [
        "id='1ii6j8Mex52FFWCLa4coVX6s47GuXN0B3'\n",
        "downloaded = drive.CreateFile({'id': id})\n",
        "downloaded.GetContentFile('logs.csv')"
      ],
      "execution_count": null,
      "outputs": []
    },
    {
      "cell_type": "code",
      "metadata": {
        "colab": {
          "base_uri": "https://localhost:8080/",
          "height": 206
        },
        "id": "yusN448ZwSCf",
        "outputId": "c90e72e8-9e23-4ad2-a710-02f8d3b4c8c0"
      },
      "source": [
        "logs = pd.read_csv('logs.csv')\n",
        "logs.head()"
      ],
      "execution_count": null,
      "outputs": [
        {
          "output_type": "execute_result",
          "data": {
            "text/html": [
              "<div>\n",
              "<style scoped>\n",
              "    .dataframe tbody tr th:only-of-type {\n",
              "        vertical-align: middle;\n",
              "    }\n",
              "\n",
              "    .dataframe tbody tr th {\n",
              "        vertical-align: top;\n",
              "    }\n",
              "\n",
              "    .dataframe thead th {\n",
              "        text-align: right;\n",
              "    }\n",
              "</style>\n",
              "<table border=\"1\" class=\"dataframe\">\n",
              "  <thead>\n",
              "    <tr style=\"text-align: right;\">\n",
              "      <th></th>\n",
              "      <th>item_id</th>\n",
              "      <th>timestamp</th>\n",
              "      <th>contributor_username</th>\n",
              "      <th>contributor_id</th>\n",
              "      <th>contributor_ip</th>\n",
              "      <th>comment</th>\n",
              "      <th>logtype</th>\n",
              "      <th>action</th>\n",
              "      <th>title</th>\n",
              "    </tr>\n",
              "  </thead>\n",
              "  <tbody>\n",
              "    <tr>\n",
              "      <th>0</th>\n",
              "      <td>1</td>\n",
              "      <td>2004-12-23T07:10:09Z</td>\n",
              "      <td>Sabbut</td>\n",
              "      <td>2,075.00000</td>\n",
              "      <td>NaN</td>\n",
              "      <td>el contenido era: 'Si aprendés Pensamiento Cie...</td>\n",
              "      <td>delete</td>\n",
              "      <td>delete</td>\n",
              "      <td>Verificacionismo</td>\n",
              "    </tr>\n",
              "    <tr>\n",
              "      <th>1</th>\n",
              "      <td>2</td>\n",
              "      <td>2004-12-23T07:14:09Z</td>\n",
              "      <td>Sabbut</td>\n",
              "      <td>2,075.00000</td>\n",
              "      <td>NaN</td>\n",
              "      <td>el contenido era: '{{destruir}}en algun lugar ...</td>\n",
              "      <td>delete</td>\n",
              "      <td>delete</td>\n",
              "      <td>Rapunzel</td>\n",
              "    </tr>\n",
              "    <tr>\n",
              "      <th>2</th>\n",
              "      <td>3</td>\n",
              "      <td>2004-12-23T07:26:10Z</td>\n",
              "      <td>Sabbut</td>\n",
              "      <td>2,075.00000</td>\n",
              "      <td>NaN</td>\n",
              "      <td>el contenido era: '#REDIRECT [[Flash]]'</td>\n",
              "      <td>delete</td>\n",
              "      <td>delete</td>\n",
              "      <td>Macromedia Flash</td>\n",
              "    </tr>\n",
              "    <tr>\n",
              "      <th>3</th>\n",
              "      <td>4</td>\n",
              "      <td>2004-12-23T07:55:09Z</td>\n",
              "      <td>Sanbec</td>\n",
              "      <td>7,856.00000</td>\n",
              "      <td>NaN</td>\n",
              "      <td>Sin información de origen ni de licencia. Hay ...</td>\n",
              "      <td>delete</td>\n",
              "      <td>delete</td>\n",
              "      <td>Archivo:Gnu head.png</td>\n",
              "    </tr>\n",
              "    <tr>\n",
              "      <th>4</th>\n",
              "      <td>5</td>\n",
              "      <td>2004-12-23T08:02:22Z</td>\n",
              "      <td>Sanbec</td>\n",
              "      <td>7,856.00000</td>\n",
              "      <td>NaN</td>\n",
              "      <td>Sustituida por  [[commons:Image:Heckert_GNU.png]]</td>\n",
              "      <td>delete</td>\n",
              "      <td>delete</td>\n",
              "      <td>Archivo:Gnu-head-sm.jpg</td>\n",
              "    </tr>\n",
              "  </tbody>\n",
              "</table>\n",
              "</div>"
            ],
            "text/plain": [
              "   item_id             timestamp  ...  action                    title\n",
              "0        1  2004-12-23T07:10:09Z  ...  delete         Verificacionismo\n",
              "1        2  2004-12-23T07:14:09Z  ...  delete                 Rapunzel\n",
              "2        3  2004-12-23T07:26:10Z  ...  delete         Macromedia Flash\n",
              "3        4  2004-12-23T07:55:09Z  ...  delete     Archivo:Gnu head.png\n",
              "4        5  2004-12-23T08:02:22Z  ...  delete  Archivo:Gnu-head-sm.jpg\n",
              "\n",
              "[5 rows x 9 columns]"
            ]
          },
          "metadata": {},
          "execution_count": 5
        }
      ]
    },
    {
      "cell_type": "code",
      "metadata": {
        "colab": {
          "base_uri": "https://localhost:8080/"
        },
        "id": "n7sXPRcFwVCF",
        "outputId": "544a8ab2-c520-483b-a979-4c134e4d2e54"
      },
      "source": [
        "logs['timestamp']=pd.to_datetime(logs['timestamp'])\n",
        "logs.dtypes"
      ],
      "execution_count": null,
      "outputs": [
        {
          "output_type": "execute_result",
          "data": {
            "text/plain": [
              "item_id                               int64\n",
              "timestamp               datetime64[ns, UTC]\n",
              "contributor_username                 object\n",
              "contributor_id                      float64\n",
              "contributor_ip                       object\n",
              "comment                              object\n",
              "logtype                              object\n",
              "action                               object\n",
              "title                                object\n",
              "dtype: object"
            ]
          },
          "metadata": {},
          "execution_count": 6
        }
      ]
    },
    {
      "cell_type": "code",
      "metadata": {
        "colab": {
          "base_uri": "https://localhost:8080/",
          "height": 269
        },
        "id": "sf4VIKtPxonZ",
        "outputId": "8821ff09-55e2-43df-b765-eb42af7106a4"
      },
      "source": [
        "dias_traduccion = {\n",
        "        'dia_es': ['Lunes', 'Martes', 'Miercoles', 'Jueves', 'Viernes', 'Sabado', 'Domingo'],\n",
        "        'dia_en': ['Monday', 'Tuesday', 'Wednesday', 'Thursday', 'Friday', 'Saturday', 'Sunday']\n",
        "}\n",
        "\n",
        "df_dias = pd.DataFrame(dias_traduccion, columns = dias_traduccion.keys())\n",
        "df_dias"
      ],
      "execution_count": null,
      "outputs": [
        {
          "output_type": "execute_result",
          "data": {
            "text/html": [
              "<div>\n",
              "<style scoped>\n",
              "    .dataframe tbody tr th:only-of-type {\n",
              "        vertical-align: middle;\n",
              "    }\n",
              "\n",
              "    .dataframe tbody tr th {\n",
              "        vertical-align: top;\n",
              "    }\n",
              "\n",
              "    .dataframe thead th {\n",
              "        text-align: right;\n",
              "    }\n",
              "</style>\n",
              "<table border=\"1\" class=\"dataframe\">\n",
              "  <thead>\n",
              "    <tr style=\"text-align: right;\">\n",
              "      <th></th>\n",
              "      <th>dia_es</th>\n",
              "      <th>dia_en</th>\n",
              "    </tr>\n",
              "  </thead>\n",
              "  <tbody>\n",
              "    <tr>\n",
              "      <th>0</th>\n",
              "      <td>Lunes</td>\n",
              "      <td>Monday</td>\n",
              "    </tr>\n",
              "    <tr>\n",
              "      <th>1</th>\n",
              "      <td>Martes</td>\n",
              "      <td>Tuesday</td>\n",
              "    </tr>\n",
              "    <tr>\n",
              "      <th>2</th>\n",
              "      <td>Miercoles</td>\n",
              "      <td>Wednesday</td>\n",
              "    </tr>\n",
              "    <tr>\n",
              "      <th>3</th>\n",
              "      <td>Jueves</td>\n",
              "      <td>Thursday</td>\n",
              "    </tr>\n",
              "    <tr>\n",
              "      <th>4</th>\n",
              "      <td>Viernes</td>\n",
              "      <td>Friday</td>\n",
              "    </tr>\n",
              "    <tr>\n",
              "      <th>5</th>\n",
              "      <td>Sabado</td>\n",
              "      <td>Saturday</td>\n",
              "    </tr>\n",
              "    <tr>\n",
              "      <th>6</th>\n",
              "      <td>Domingo</td>\n",
              "      <td>Sunday</td>\n",
              "    </tr>\n",
              "  </tbody>\n",
              "</table>\n",
              "</div>"
            ],
            "text/plain": [
              "      dia_es     dia_en\n",
              "0      Lunes     Monday\n",
              "1     Martes    Tuesday\n",
              "2  Miercoles  Wednesday\n",
              "3     Jueves   Thursday\n",
              "4    Viernes     Friday\n",
              "5     Sabado   Saturday\n",
              "6    Domingo     Sunday"
            ]
          },
          "metadata": {},
          "execution_count": 7
        }
      ]
    },
    {
      "cell_type": "code",
      "metadata": {
        "colab": {
          "base_uri": "https://localhost:8080/",
          "height": 293
        },
        "id": "LlgH-Mgjxqeu",
        "outputId": "e9fa7336-5efd-42e1-92ba-39a05c5b27f8"
      },
      "source": [
        "logs['day']= pd.DatetimeIndex(logs['timestamp']).day_name()\n",
        "logs.head()"
      ],
      "execution_count": null,
      "outputs": [
        {
          "output_type": "execute_result",
          "data": {
            "text/html": [
              "<div>\n",
              "<style scoped>\n",
              "    .dataframe tbody tr th:only-of-type {\n",
              "        vertical-align: middle;\n",
              "    }\n",
              "\n",
              "    .dataframe tbody tr th {\n",
              "        vertical-align: top;\n",
              "    }\n",
              "\n",
              "    .dataframe thead th {\n",
              "        text-align: right;\n",
              "    }\n",
              "</style>\n",
              "<table border=\"1\" class=\"dataframe\">\n",
              "  <thead>\n",
              "    <tr style=\"text-align: right;\">\n",
              "      <th></th>\n",
              "      <th>item_id</th>\n",
              "      <th>timestamp</th>\n",
              "      <th>contributor_username</th>\n",
              "      <th>contributor_id</th>\n",
              "      <th>contributor_ip</th>\n",
              "      <th>comment</th>\n",
              "      <th>logtype</th>\n",
              "      <th>action</th>\n",
              "      <th>title</th>\n",
              "      <th>day</th>\n",
              "    </tr>\n",
              "  </thead>\n",
              "  <tbody>\n",
              "    <tr>\n",
              "      <th>0</th>\n",
              "      <td>1</td>\n",
              "      <td>2004-12-23 07:10:09+00:00</td>\n",
              "      <td>Sabbut</td>\n",
              "      <td>2,075.00000</td>\n",
              "      <td>NaN</td>\n",
              "      <td>el contenido era: 'Si aprendés Pensamiento Cie...</td>\n",
              "      <td>delete</td>\n",
              "      <td>delete</td>\n",
              "      <td>Verificacionismo</td>\n",
              "      <td>Thursday</td>\n",
              "    </tr>\n",
              "    <tr>\n",
              "      <th>1</th>\n",
              "      <td>2</td>\n",
              "      <td>2004-12-23 07:14:09+00:00</td>\n",
              "      <td>Sabbut</td>\n",
              "      <td>2,075.00000</td>\n",
              "      <td>NaN</td>\n",
              "      <td>el contenido era: '{{destruir}}en algun lugar ...</td>\n",
              "      <td>delete</td>\n",
              "      <td>delete</td>\n",
              "      <td>Rapunzel</td>\n",
              "      <td>Thursday</td>\n",
              "    </tr>\n",
              "    <tr>\n",
              "      <th>2</th>\n",
              "      <td>3</td>\n",
              "      <td>2004-12-23 07:26:10+00:00</td>\n",
              "      <td>Sabbut</td>\n",
              "      <td>2,075.00000</td>\n",
              "      <td>NaN</td>\n",
              "      <td>el contenido era: '#REDIRECT [[Flash]]'</td>\n",
              "      <td>delete</td>\n",
              "      <td>delete</td>\n",
              "      <td>Macromedia Flash</td>\n",
              "      <td>Thursday</td>\n",
              "    </tr>\n",
              "    <tr>\n",
              "      <th>3</th>\n",
              "      <td>4</td>\n",
              "      <td>2004-12-23 07:55:09+00:00</td>\n",
              "      <td>Sanbec</td>\n",
              "      <td>7,856.00000</td>\n",
              "      <td>NaN</td>\n",
              "      <td>Sin información de origen ni de licencia. Hay ...</td>\n",
              "      <td>delete</td>\n",
              "      <td>delete</td>\n",
              "      <td>Archivo:Gnu head.png</td>\n",
              "      <td>Thursday</td>\n",
              "    </tr>\n",
              "    <tr>\n",
              "      <th>4</th>\n",
              "      <td>5</td>\n",
              "      <td>2004-12-23 08:02:22+00:00</td>\n",
              "      <td>Sanbec</td>\n",
              "      <td>7,856.00000</td>\n",
              "      <td>NaN</td>\n",
              "      <td>Sustituida por  [[commons:Image:Heckert_GNU.png]]</td>\n",
              "      <td>delete</td>\n",
              "      <td>delete</td>\n",
              "      <td>Archivo:Gnu-head-sm.jpg</td>\n",
              "      <td>Thursday</td>\n",
              "    </tr>\n",
              "  </tbody>\n",
              "</table>\n",
              "</div>"
            ],
            "text/plain": [
              "   item_id                 timestamp  ...                    title       day\n",
              "0        1 2004-12-23 07:10:09+00:00  ...         Verificacionismo  Thursday\n",
              "1        2 2004-12-23 07:14:09+00:00  ...                 Rapunzel  Thursday\n",
              "2        3 2004-12-23 07:26:10+00:00  ...         Macromedia Flash  Thursday\n",
              "3        4 2004-12-23 07:55:09+00:00  ...     Archivo:Gnu head.png  Thursday\n",
              "4        5 2004-12-23 08:02:22+00:00  ...  Archivo:Gnu-head-sm.jpg  Thursday\n",
              "\n",
              "[5 rows x 10 columns]"
            ]
          },
          "metadata": {},
          "execution_count": 8
        }
      ]
    },
    {
      "cell_type": "code",
      "metadata": {
        "colab": {
          "base_uri": "https://localhost:8080/",
          "height": 269
        },
        "id": "6tQUvyvNxyIH",
        "outputId": "d0acbdfe-6f59-4ef7-964e-71ddd69714f5"
      },
      "source": [
        "resultado_a = logs.day.value_counts().to_frame().reset_index()\n",
        "resultado_a "
      ],
      "execution_count": null,
      "outputs": [
        {
          "output_type": "execute_result",
          "data": {
            "text/html": [
              "<div>\n",
              "<style scoped>\n",
              "    .dataframe tbody tr th:only-of-type {\n",
              "        vertical-align: middle;\n",
              "    }\n",
              "\n",
              "    .dataframe tbody tr th {\n",
              "        vertical-align: top;\n",
              "    }\n",
              "\n",
              "    .dataframe thead th {\n",
              "        text-align: right;\n",
              "    }\n",
              "</style>\n",
              "<table border=\"1\" class=\"dataframe\">\n",
              "  <thead>\n",
              "    <tr style=\"text-align: right;\">\n",
              "      <th></th>\n",
              "      <th>index</th>\n",
              "      <th>day</th>\n",
              "    </tr>\n",
              "  </thead>\n",
              "  <tbody>\n",
              "    <tr>\n",
              "      <th>0</th>\n",
              "      <td>Sunday</td>\n",
              "      <td>1944317</td>\n",
              "    </tr>\n",
              "    <tr>\n",
              "      <th>1</th>\n",
              "      <td>Tuesday</td>\n",
              "      <td>1814508</td>\n",
              "    </tr>\n",
              "    <tr>\n",
              "      <th>2</th>\n",
              "      <td>Wednesday</td>\n",
              "      <td>1805966</td>\n",
              "    </tr>\n",
              "    <tr>\n",
              "      <th>3</th>\n",
              "      <td>Monday</td>\n",
              "      <td>1767544</td>\n",
              "    </tr>\n",
              "    <tr>\n",
              "      <th>4</th>\n",
              "      <td>Thursday</td>\n",
              "      <td>1762898</td>\n",
              "    </tr>\n",
              "    <tr>\n",
              "      <th>5</th>\n",
              "      <td>Friday</td>\n",
              "      <td>1612898</td>\n",
              "    </tr>\n",
              "    <tr>\n",
              "      <th>6</th>\n",
              "      <td>Saturday</td>\n",
              "      <td>1480815</td>\n",
              "    </tr>\n",
              "  </tbody>\n",
              "</table>\n",
              "</div>"
            ],
            "text/plain": [
              "       index      day\n",
              "0     Sunday  1944317\n",
              "1    Tuesday  1814508\n",
              "2  Wednesday  1805966\n",
              "3     Monday  1767544\n",
              "4   Thursday  1762898\n",
              "5     Friday  1612898\n",
              "6   Saturday  1480815"
            ]
          },
          "metadata": {},
          "execution_count": 9
        }
      ]
    },
    {
      "cell_type": "code",
      "metadata": {
        "colab": {
          "base_uri": "https://localhost:8080/",
          "height": 269
        },
        "id": "Oh5NHkKvyDRU",
        "outputId": "17bcded8-32e7-40e2-89ee-b02ea87e7619"
      },
      "source": [
        "resultado_a = resultado_a.rename(columns = {'day':'count', 'index':'day'})\n",
        "resultado_a"
      ],
      "execution_count": null,
      "outputs": [
        {
          "output_type": "execute_result",
          "data": {
            "text/html": [
              "<div>\n",
              "<style scoped>\n",
              "    .dataframe tbody tr th:only-of-type {\n",
              "        vertical-align: middle;\n",
              "    }\n",
              "\n",
              "    .dataframe tbody tr th {\n",
              "        vertical-align: top;\n",
              "    }\n",
              "\n",
              "    .dataframe thead th {\n",
              "        text-align: right;\n",
              "    }\n",
              "</style>\n",
              "<table border=\"1\" class=\"dataframe\">\n",
              "  <thead>\n",
              "    <tr style=\"text-align: right;\">\n",
              "      <th></th>\n",
              "      <th>day</th>\n",
              "      <th>count</th>\n",
              "    </tr>\n",
              "  </thead>\n",
              "  <tbody>\n",
              "    <tr>\n",
              "      <th>0</th>\n",
              "      <td>Sunday</td>\n",
              "      <td>1944317</td>\n",
              "    </tr>\n",
              "    <tr>\n",
              "      <th>1</th>\n",
              "      <td>Tuesday</td>\n",
              "      <td>1814508</td>\n",
              "    </tr>\n",
              "    <tr>\n",
              "      <th>2</th>\n",
              "      <td>Wednesday</td>\n",
              "      <td>1805966</td>\n",
              "    </tr>\n",
              "    <tr>\n",
              "      <th>3</th>\n",
              "      <td>Monday</td>\n",
              "      <td>1767544</td>\n",
              "    </tr>\n",
              "    <tr>\n",
              "      <th>4</th>\n",
              "      <td>Thursday</td>\n",
              "      <td>1762898</td>\n",
              "    </tr>\n",
              "    <tr>\n",
              "      <th>5</th>\n",
              "      <td>Friday</td>\n",
              "      <td>1612898</td>\n",
              "    </tr>\n",
              "    <tr>\n",
              "      <th>6</th>\n",
              "      <td>Saturday</td>\n",
              "      <td>1480815</td>\n",
              "    </tr>\n",
              "  </tbody>\n",
              "</table>\n",
              "</div>"
            ],
            "text/plain": [
              "         day    count\n",
              "0     Sunday  1944317\n",
              "1    Tuesday  1814508\n",
              "2  Wednesday  1805966\n",
              "3     Monday  1767544\n",
              "4   Thursday  1762898\n",
              "5     Friday  1612898\n",
              "6   Saturday  1480815"
            ]
          },
          "metadata": {},
          "execution_count": 10
        }
      ]
    },
    {
      "cell_type": "code",
      "metadata": {
        "colab": {
          "base_uri": "https://localhost:8080/",
          "height": 269
        },
        "id": "o7tHSqWXyM4L",
        "outputId": "f1853723-cd81-4dec-a7c1-1dde6d3439b2"
      },
      "source": [
        "resultado_a['probabilidad'] = resultado_a['count']/resultado_a['count'].sum()\n",
        "resultado_a"
      ],
      "execution_count": null,
      "outputs": [
        {
          "output_type": "execute_result",
          "data": {
            "text/html": [
              "<div>\n",
              "<style scoped>\n",
              "    .dataframe tbody tr th:only-of-type {\n",
              "        vertical-align: middle;\n",
              "    }\n",
              "\n",
              "    .dataframe tbody tr th {\n",
              "        vertical-align: top;\n",
              "    }\n",
              "\n",
              "    .dataframe thead th {\n",
              "        text-align: right;\n",
              "    }\n",
              "</style>\n",
              "<table border=\"1\" class=\"dataframe\">\n",
              "  <thead>\n",
              "    <tr style=\"text-align: right;\">\n",
              "      <th></th>\n",
              "      <th>day</th>\n",
              "      <th>count</th>\n",
              "      <th>probabilidad</th>\n",
              "    </tr>\n",
              "  </thead>\n",
              "  <tbody>\n",
              "    <tr>\n",
              "      <th>0</th>\n",
              "      <td>Sunday</td>\n",
              "      <td>1944317</td>\n",
              "      <td>0.15951</td>\n",
              "    </tr>\n",
              "    <tr>\n",
              "      <th>1</th>\n",
              "      <td>Tuesday</td>\n",
              "      <td>1814508</td>\n",
              "      <td>0.14887</td>\n",
              "    </tr>\n",
              "    <tr>\n",
              "      <th>2</th>\n",
              "      <td>Wednesday</td>\n",
              "      <td>1805966</td>\n",
              "      <td>0.14816</td>\n",
              "    </tr>\n",
              "    <tr>\n",
              "      <th>3</th>\n",
              "      <td>Monday</td>\n",
              "      <td>1767544</td>\n",
              "      <td>0.14501</td>\n",
              "    </tr>\n",
              "    <tr>\n",
              "      <th>4</th>\n",
              "      <td>Thursday</td>\n",
              "      <td>1762898</td>\n",
              "      <td>0.14463</td>\n",
              "    </tr>\n",
              "    <tr>\n",
              "      <th>5</th>\n",
              "      <td>Friday</td>\n",
              "      <td>1612898</td>\n",
              "      <td>0.13232</td>\n",
              "    </tr>\n",
              "    <tr>\n",
              "      <th>6</th>\n",
              "      <td>Saturday</td>\n",
              "      <td>1480815</td>\n",
              "      <td>0.12149</td>\n",
              "    </tr>\n",
              "  </tbody>\n",
              "</table>\n",
              "</div>"
            ],
            "text/plain": [
              "         day    count         probabilidad\n",
              "0     Sunday  1944317              0.15951\n",
              "1    Tuesday  1814508              0.14887\n",
              "2  Wednesday  1805966              0.14816\n",
              "3     Monday  1767544              0.14501\n",
              "4   Thursday  1762898              0.14463\n",
              "5     Friday  1612898              0.13232\n",
              "6   Saturday  1480815              0.12149"
            ]
          },
          "metadata": {},
          "execution_count": 11
        }
      ]
    },
    {
      "cell_type": "markdown",
      "metadata": {
        "id": "Fu2DeU1e0N02"
      },
      "source": [
        "2da Parte"
      ]
    },
    {
      "cell_type": "code",
      "metadata": {
        "id": "nO7aFFbUzb3C"
      },
      "source": [
        "id='1oS2m872fr6796N_DgVyQ1hUvGBqJb2nR'\n",
        "downloaded = drive.CreateFile({'id': id})\n",
        "downloaded.GetContentFile('contents.csv')"
      ],
      "execution_count": null,
      "outputs": []
    },
    {
      "cell_type": "code",
      "metadata": {
        "colab": {
          "base_uri": "https://localhost:8080/",
          "height": 295
        },
        "id": "a2lhjwan1DLO",
        "outputId": "bd7d5f16-12cc-4da4-804e-15a451c0d361"
      },
      "source": [
        "contents = pd.read_csv('contents.csv')\n",
        "contents.head()"
      ],
      "execution_count": null,
      "outputs": [
        {
          "output_type": "execute_result",
          "data": {
            "text/html": [
              "<div>\n",
              "<style scoped>\n",
              "    .dataframe tbody tr th:only-of-type {\n",
              "        vertical-align: middle;\n",
              "    }\n",
              "\n",
              "    .dataframe tbody tr th {\n",
              "        vertical-align: top;\n",
              "    }\n",
              "\n",
              "    .dataframe thead th {\n",
              "        text-align: right;\n",
              "    }\n",
              "</style>\n",
              "<table border=\"1\" class=\"dataframe\">\n",
              "  <thead>\n",
              "    <tr style=\"text-align: right;\">\n",
              "      <th></th>\n",
              "      <th>title</th>\n",
              "      <th>id</th>\n",
              "      <th>namespace</th>\n",
              "      <th>revision_id</th>\n",
              "      <th>parent_revision</th>\n",
              "      <th>revision_timestamp</th>\n",
              "      <th>revisor_username</th>\n",
              "      <th>revisor_id</th>\n",
              "      <th>revisor_ip</th>\n",
              "      <th>revisor_comment</th>\n",
              "    </tr>\n",
              "  </thead>\n",
              "  <tbody>\n",
              "    <tr>\n",
              "      <th>0</th>\n",
              "      <td>Wikipedia:Artículos solicitados</td>\n",
              "      <td>5</td>\n",
              "      <td>4</td>\n",
              "      <td>132533307</td>\n",
              "      <td>132,516,631.00000</td>\n",
              "      <td>2021-01-19T18:40:34Z</td>\n",
              "      <td>Metrónomo</td>\n",
              "      <td>1,708,233.00000</td>\n",
              "      <td>NaN</td>\n",
              "      <td>Así esta mejor</td>\n",
              "    </tr>\n",
              "    <tr>\n",
              "      <th>1</th>\n",
              "      <td>Andorra</td>\n",
              "      <td>7</td>\n",
              "      <td>0</td>\n",
              "      <td>138035057</td>\n",
              "      <td>138,027,475.00000</td>\n",
              "      <td>2021-08-31T18:27:01Z</td>\n",
              "      <td>NaN</td>\n",
              "      <td>nan</td>\n",
              "      <td>2800:CD0:FC1B:A900:C5A4:9E81:7175:2ED2</td>\n",
              "      <td>Añadir contenido</td>\n",
              "    </tr>\n",
              "    <tr>\n",
              "      <th>2</th>\n",
              "      <td>Argentina</td>\n",
              "      <td>10</td>\n",
              "      <td>0</td>\n",
              "      <td>137966826</td>\n",
              "      <td>137,825,165.00000</td>\n",
              "      <td>2021-08-28T17:17:54Z</td>\n",
              "      <td>Traitrich</td>\n",
              "      <td>4,642,283.00000</td>\n",
              "      <td>NaN</td>\n",
              "      <td>Reemplazos con [[Usuario:Benjavalero/Replacer|...</td>\n",
              "    </tr>\n",
              "    <tr>\n",
              "      <th>3</th>\n",
              "      <td>Geografía de Andorra</td>\n",
              "      <td>15</td>\n",
              "      <td>0</td>\n",
              "      <td>137986788</td>\n",
              "      <td>133,666,383.00000</td>\n",
              "      <td>2021-08-29T17:16:00Z</td>\n",
              "      <td>Lojwe</td>\n",
              "      <td>5,338,508.00000</td>\n",
              "      <td>NaN</td>\n",
              "      <td>Reemplazos con [[Usuario:Benjavalero/Replacer|...</td>\n",
              "    </tr>\n",
              "    <tr>\n",
              "      <th>4</th>\n",
              "      <td>Demografía de Andorra</td>\n",
              "      <td>17</td>\n",
              "      <td>0</td>\n",
              "      <td>130869554</td>\n",
              "      <td>129,413,188.00000</td>\n",
              "      <td>2020-11-12T19:56:15Z</td>\n",
              "      <td>Jialxv</td>\n",
              "      <td>3,615,366.00000</td>\n",
              "      <td>NaN</td>\n",
              "      <td>Correcciones ortográficas con [[Usuario:Benjav...</td>\n",
              "    </tr>\n",
              "  </tbody>\n",
              "</table>\n",
              "</div>"
            ],
            "text/plain": [
              "                             title  ...                                    revisor_comment\n",
              "0  Wikipedia:Artículos solicitados  ...                                     Así esta mejor\n",
              "1                          Andorra  ...                                   Añadir contenido\n",
              "2                        Argentina  ...  Reemplazos con [[Usuario:Benjavalero/Replacer|...\n",
              "3             Geografía de Andorra  ...  Reemplazos con [[Usuario:Benjavalero/Replacer|...\n",
              "4            Demografía de Andorra  ...  Correcciones ortográficas con [[Usuario:Benjav...\n",
              "\n",
              "[5 rows x 10 columns]"
            ]
          },
          "metadata": {},
          "execution_count": 13
        }
      ]
    },
    {
      "cell_type": "code",
      "metadata": {
        "id": "J9eETit91HRV"
      },
      "source": [
        "contents['revision_timestamp']=pd.to_datetime(contents['revision_timestamp'])\n"
      ],
      "execution_count": null,
      "outputs": []
    },
    {
      "cell_type": "code",
      "metadata": {
        "colab": {
          "base_uri": "https://localhost:8080/",
          "height": 313
        },
        "id": "TusOoRa91qYB",
        "outputId": "82a498ad-c067-403a-f0c9-8da6f49eb3cb"
      },
      "source": [
        "contents['day']= pd.DatetimeIndex(contents['revision_timestamp']).day_name()\n",
        "contents.head()"
      ],
      "execution_count": null,
      "outputs": [
        {
          "output_type": "execute_result",
          "data": {
            "text/html": [
              "<div>\n",
              "<style scoped>\n",
              "    .dataframe tbody tr th:only-of-type {\n",
              "        vertical-align: middle;\n",
              "    }\n",
              "\n",
              "    .dataframe tbody tr th {\n",
              "        vertical-align: top;\n",
              "    }\n",
              "\n",
              "    .dataframe thead th {\n",
              "        text-align: right;\n",
              "    }\n",
              "</style>\n",
              "<table border=\"1\" class=\"dataframe\">\n",
              "  <thead>\n",
              "    <tr style=\"text-align: right;\">\n",
              "      <th></th>\n",
              "      <th>title</th>\n",
              "      <th>id</th>\n",
              "      <th>namespace</th>\n",
              "      <th>revision_id</th>\n",
              "      <th>parent_revision</th>\n",
              "      <th>revision_timestamp</th>\n",
              "      <th>revisor_username</th>\n",
              "      <th>revisor_id</th>\n",
              "      <th>revisor_ip</th>\n",
              "      <th>revisor_comment</th>\n",
              "      <th>day</th>\n",
              "    </tr>\n",
              "  </thead>\n",
              "  <tbody>\n",
              "    <tr>\n",
              "      <th>0</th>\n",
              "      <td>Wikipedia:Artículos solicitados</td>\n",
              "      <td>5</td>\n",
              "      <td>4</td>\n",
              "      <td>132533307</td>\n",
              "      <td>132,516,631.00000</td>\n",
              "      <td>2021-01-19 18:40:34+00:00</td>\n",
              "      <td>Metrónomo</td>\n",
              "      <td>1,708,233.00000</td>\n",
              "      <td>NaN</td>\n",
              "      <td>Así esta mejor</td>\n",
              "      <td>Tuesday</td>\n",
              "    </tr>\n",
              "    <tr>\n",
              "      <th>1</th>\n",
              "      <td>Andorra</td>\n",
              "      <td>7</td>\n",
              "      <td>0</td>\n",
              "      <td>138035057</td>\n",
              "      <td>138,027,475.00000</td>\n",
              "      <td>2021-08-31 18:27:01+00:00</td>\n",
              "      <td>NaN</td>\n",
              "      <td>nan</td>\n",
              "      <td>2800:CD0:FC1B:A900:C5A4:9E81:7175:2ED2</td>\n",
              "      <td>Añadir contenido</td>\n",
              "      <td>Tuesday</td>\n",
              "    </tr>\n",
              "    <tr>\n",
              "      <th>2</th>\n",
              "      <td>Argentina</td>\n",
              "      <td>10</td>\n",
              "      <td>0</td>\n",
              "      <td>137966826</td>\n",
              "      <td>137,825,165.00000</td>\n",
              "      <td>2021-08-28 17:17:54+00:00</td>\n",
              "      <td>Traitrich</td>\n",
              "      <td>4,642,283.00000</td>\n",
              "      <td>NaN</td>\n",
              "      <td>Reemplazos con [[Usuario:Benjavalero/Replacer|...</td>\n",
              "      <td>Saturday</td>\n",
              "    </tr>\n",
              "    <tr>\n",
              "      <th>3</th>\n",
              "      <td>Geografía de Andorra</td>\n",
              "      <td>15</td>\n",
              "      <td>0</td>\n",
              "      <td>137986788</td>\n",
              "      <td>133,666,383.00000</td>\n",
              "      <td>2021-08-29 17:16:00+00:00</td>\n",
              "      <td>Lojwe</td>\n",
              "      <td>5,338,508.00000</td>\n",
              "      <td>NaN</td>\n",
              "      <td>Reemplazos con [[Usuario:Benjavalero/Replacer|...</td>\n",
              "      <td>Sunday</td>\n",
              "    </tr>\n",
              "    <tr>\n",
              "      <th>4</th>\n",
              "      <td>Demografía de Andorra</td>\n",
              "      <td>17</td>\n",
              "      <td>0</td>\n",
              "      <td>130869554</td>\n",
              "      <td>129,413,188.00000</td>\n",
              "      <td>2020-11-12 19:56:15+00:00</td>\n",
              "      <td>Jialxv</td>\n",
              "      <td>3,615,366.00000</td>\n",
              "      <td>NaN</td>\n",
              "      <td>Correcciones ortográficas con [[Usuario:Benjav...</td>\n",
              "      <td>Thursday</td>\n",
              "    </tr>\n",
              "  </tbody>\n",
              "</table>\n",
              "</div>"
            ],
            "text/plain": [
              "                             title  ...       day\n",
              "0  Wikipedia:Artículos solicitados  ...   Tuesday\n",
              "1                          Andorra  ...   Tuesday\n",
              "2                        Argentina  ...  Saturday\n",
              "3             Geografía de Andorra  ...    Sunday\n",
              "4            Demografía de Andorra  ...  Thursday\n",
              "\n",
              "[5 rows x 11 columns]"
            ]
          },
          "metadata": {},
          "execution_count": 16
        }
      ]
    },
    {
      "cell_type": "code",
      "metadata": {
        "colab": {
          "base_uri": "https://localhost:8080/",
          "height": 269
        },
        "id": "ii38XNv610HB",
        "outputId": "9cbc9ae7-fe50-4480-9467-9644b36432a7"
      },
      "source": [
        "resultado_b = contents.day.value_counts().to_frame().reset_index()\n",
        "resultado_b = resultado_b.rename(columns = {'day':'count', 'index':'day'})\n",
        "resultado_b "
      ],
      "execution_count": null,
      "outputs": [
        {
          "output_type": "execute_result",
          "data": {
            "text/html": [
              "<div>\n",
              "<style scoped>\n",
              "    .dataframe tbody tr th:only-of-type {\n",
              "        vertical-align: middle;\n",
              "    }\n",
              "\n",
              "    .dataframe tbody tr th {\n",
              "        vertical-align: top;\n",
              "    }\n",
              "\n",
              "    .dataframe thead th {\n",
              "        text-align: right;\n",
              "    }\n",
              "</style>\n",
              "<table border=\"1\" class=\"dataframe\">\n",
              "  <thead>\n",
              "    <tr style=\"text-align: right;\">\n",
              "      <th></th>\n",
              "      <th>day</th>\n",
              "      <th>count</th>\n",
              "    </tr>\n",
              "  </thead>\n",
              "  <tbody>\n",
              "    <tr>\n",
              "      <th>0</th>\n",
              "      <td>Tuesday</td>\n",
              "      <td>636769</td>\n",
              "    </tr>\n",
              "    <tr>\n",
              "      <th>1</th>\n",
              "      <td>Monday</td>\n",
              "      <td>625698</td>\n",
              "    </tr>\n",
              "    <tr>\n",
              "      <th>2</th>\n",
              "      <td>Thursday</td>\n",
              "      <td>617329</td>\n",
              "    </tr>\n",
              "    <tr>\n",
              "      <th>3</th>\n",
              "      <td>Wednesday</td>\n",
              "      <td>616671</td>\n",
              "    </tr>\n",
              "    <tr>\n",
              "      <th>4</th>\n",
              "      <td>Sunday</td>\n",
              "      <td>548149</td>\n",
              "    </tr>\n",
              "    <tr>\n",
              "      <th>5</th>\n",
              "      <td>Saturday</td>\n",
              "      <td>545963</td>\n",
              "    </tr>\n",
              "    <tr>\n",
              "      <th>6</th>\n",
              "      <td>Friday</td>\n",
              "      <td>541585</td>\n",
              "    </tr>\n",
              "  </tbody>\n",
              "</table>\n",
              "</div>"
            ],
            "text/plain": [
              "         day   count\n",
              "0    Tuesday  636769\n",
              "1     Monday  625698\n",
              "2   Thursday  617329\n",
              "3  Wednesday  616671\n",
              "4     Sunday  548149\n",
              "5   Saturday  545963\n",
              "6     Friday  541585"
            ]
          },
          "metadata": {},
          "execution_count": 18
        }
      ]
    },
    {
      "cell_type": "code",
      "metadata": {
        "colab": {
          "base_uri": "https://localhost:8080/",
          "height": 269
        },
        "id": "_IjKStTF1_ai",
        "outputId": "77daaaf4-7ca2-455b-b86f-beb62828dcd4"
      },
      "source": [
        "resultado_b['probabilidad'] = resultado_b['count']/resultado_b['count'].sum()\n",
        "resultado_b"
      ],
      "execution_count": null,
      "outputs": [
        {
          "output_type": "execute_result",
          "data": {
            "text/html": [
              "<div>\n",
              "<style scoped>\n",
              "    .dataframe tbody tr th:only-of-type {\n",
              "        vertical-align: middle;\n",
              "    }\n",
              "\n",
              "    .dataframe tbody tr th {\n",
              "        vertical-align: top;\n",
              "    }\n",
              "\n",
              "    .dataframe thead th {\n",
              "        text-align: right;\n",
              "    }\n",
              "</style>\n",
              "<table border=\"1\" class=\"dataframe\">\n",
              "  <thead>\n",
              "    <tr style=\"text-align: right;\">\n",
              "      <th></th>\n",
              "      <th>day</th>\n",
              "      <th>count</th>\n",
              "      <th>probabilidad</th>\n",
              "    </tr>\n",
              "  </thead>\n",
              "  <tbody>\n",
              "    <tr>\n",
              "      <th>0</th>\n",
              "      <td>Tuesday</td>\n",
              "      <td>636769</td>\n",
              "      <td>0.15410</td>\n",
              "    </tr>\n",
              "    <tr>\n",
              "      <th>1</th>\n",
              "      <td>Monday</td>\n",
              "      <td>625698</td>\n",
              "      <td>0.15142</td>\n",
              "    </tr>\n",
              "    <tr>\n",
              "      <th>2</th>\n",
              "      <td>Thursday</td>\n",
              "      <td>617329</td>\n",
              "      <td>0.14940</td>\n",
              "    </tr>\n",
              "    <tr>\n",
              "      <th>3</th>\n",
              "      <td>Wednesday</td>\n",
              "      <td>616671</td>\n",
              "      <td>0.14924</td>\n",
              "    </tr>\n",
              "    <tr>\n",
              "      <th>4</th>\n",
              "      <td>Sunday</td>\n",
              "      <td>548149</td>\n",
              "      <td>0.13265</td>\n",
              "    </tr>\n",
              "    <tr>\n",
              "      <th>5</th>\n",
              "      <td>Saturday</td>\n",
              "      <td>545963</td>\n",
              "      <td>0.13213</td>\n",
              "    </tr>\n",
              "    <tr>\n",
              "      <th>6</th>\n",
              "      <td>Friday</td>\n",
              "      <td>541585</td>\n",
              "      <td>0.13107</td>\n",
              "    </tr>\n",
              "  </tbody>\n",
              "</table>\n",
              "</div>"
            ],
            "text/plain": [
              "         day   count         probabilidad\n",
              "0    Tuesday  636769              0.15410\n",
              "1     Monday  625698              0.15142\n",
              "2   Thursday  617329              0.14940\n",
              "3  Wednesday  616671              0.14924\n",
              "4     Sunday  548149              0.13265\n",
              "5   Saturday  545963              0.13213\n",
              "6     Friday  541585              0.13107"
            ]
          },
          "metadata": {},
          "execution_count": 20
        }
      ]
    },
    {
      "cell_type": "code",
      "metadata": {
        "colab": {
          "base_uri": "https://localhost:8080/"
        },
        "id": "pgJbVSzr2Ymr",
        "outputId": "bd6f71c1-749b-4eff-a202-092b710d3c43"
      },
      "source": [
        "entropia_resultado_b = entropy(resultado_b.probabilidad, base = 2)\n",
        "entropia_resultado_b"
      ],
      "execution_count": null,
      "outputs": [
        {
          "output_type": "execute_result",
          "data": {
            "text/plain": [
              "2.804096796716986"
            ]
          },
          "metadata": {},
          "execution_count": 21
        }
      ]
    },
    {
      "cell_type": "code",
      "metadata": {
        "colab": {
          "base_uri": "https://localhost:8080/"
        },
        "id": "_u2faZuo3Hr8",
        "outputId": "2523ee40-af54-489c-f8de-e5ef213dc2c1"
      },
      "source": [
        "entropia_resultado_a = entropy(resultado_a.probabilidad, base = 2)\n",
        "entropia_resultado_a"
      ],
      "execution_count": null,
      "outputs": [
        {
          "output_type": "execute_result",
          "data": {
            "text/plain": [
              "2.8026413480771266"
            ]
          },
          "metadata": {},
          "execution_count": 22
        }
      ]
    },
    {
      "cell_type": "code",
      "metadata": {
        "colab": {
          "base_uri": "https://localhost:8080/",
          "height": 269
        },
        "id": "sk3YsxiE33f6",
        "outputId": "5b3d17cc-9d9c-4dc5-b3cf-bffa87b2c176"
      },
      "source": [
        "merge = resultado_a.merge(resultado_b, on = 'day')\n",
        "merge"
      ],
      "execution_count": null,
      "outputs": [
        {
          "output_type": "execute_result",
          "data": {
            "text/html": [
              "<div>\n",
              "<style scoped>\n",
              "    .dataframe tbody tr th:only-of-type {\n",
              "        vertical-align: middle;\n",
              "    }\n",
              "\n",
              "    .dataframe tbody tr th {\n",
              "        vertical-align: top;\n",
              "    }\n",
              "\n",
              "    .dataframe thead th {\n",
              "        text-align: right;\n",
              "    }\n",
              "</style>\n",
              "<table border=\"1\" class=\"dataframe\">\n",
              "  <thead>\n",
              "    <tr style=\"text-align: right;\">\n",
              "      <th></th>\n",
              "      <th>day</th>\n",
              "      <th>count_x</th>\n",
              "      <th>probabilidad_x</th>\n",
              "      <th>count_y</th>\n",
              "      <th>probabilidad_y</th>\n",
              "    </tr>\n",
              "  </thead>\n",
              "  <tbody>\n",
              "    <tr>\n",
              "      <th>0</th>\n",
              "      <td>Sunday</td>\n",
              "      <td>1944317</td>\n",
              "      <td>0.15951</td>\n",
              "      <td>548149</td>\n",
              "      <td>0.13265</td>\n",
              "    </tr>\n",
              "    <tr>\n",
              "      <th>1</th>\n",
              "      <td>Tuesday</td>\n",
              "      <td>1814508</td>\n",
              "      <td>0.14887</td>\n",
              "      <td>636769</td>\n",
              "      <td>0.15410</td>\n",
              "    </tr>\n",
              "    <tr>\n",
              "      <th>2</th>\n",
              "      <td>Wednesday</td>\n",
              "      <td>1805966</td>\n",
              "      <td>0.14816</td>\n",
              "      <td>616671</td>\n",
              "      <td>0.14924</td>\n",
              "    </tr>\n",
              "    <tr>\n",
              "      <th>3</th>\n",
              "      <td>Monday</td>\n",
              "      <td>1767544</td>\n",
              "      <td>0.14501</td>\n",
              "      <td>625698</td>\n",
              "      <td>0.15142</td>\n",
              "    </tr>\n",
              "    <tr>\n",
              "      <th>4</th>\n",
              "      <td>Thursday</td>\n",
              "      <td>1762898</td>\n",
              "      <td>0.14463</td>\n",
              "      <td>617329</td>\n",
              "      <td>0.14940</td>\n",
              "    </tr>\n",
              "    <tr>\n",
              "      <th>5</th>\n",
              "      <td>Friday</td>\n",
              "      <td>1612898</td>\n",
              "      <td>0.13232</td>\n",
              "      <td>541585</td>\n",
              "      <td>0.13107</td>\n",
              "    </tr>\n",
              "    <tr>\n",
              "      <th>6</th>\n",
              "      <td>Saturday</td>\n",
              "      <td>1480815</td>\n",
              "      <td>0.12149</td>\n",
              "      <td>545963</td>\n",
              "      <td>0.13213</td>\n",
              "    </tr>\n",
              "  </tbody>\n",
              "</table>\n",
              "</div>"
            ],
            "text/plain": [
              "         day  count_x       probabilidad_x  count_y       probabilidad_y\n",
              "0     Sunday  1944317              0.15951   548149              0.13265\n",
              "1    Tuesday  1814508              0.14887   636769              0.15410\n",
              "2  Wednesday  1805966              0.14816   616671              0.14924\n",
              "3     Monday  1767544              0.14501   625698              0.15142\n",
              "4   Thursday  1762898              0.14463   617329              0.14940\n",
              "5     Friday  1612898              0.13232   541585              0.13107\n",
              "6   Saturday  1480815              0.12149   545963              0.13213"
            ]
          },
          "metadata": {},
          "execution_count": 25
        }
      ]
    },
    {
      "cell_type": "code",
      "metadata": {
        "colab": {
          "base_uri": "https://localhost:8080/"
        },
        "id": "BKuUQEfm3MLn",
        "outputId": "3eddb35f-43e2-43bb-c95f-b3f6b4118b6f"
      },
      "source": [
        "divergencia_KL = kl_div(merge.probabilidad_x, merge.probabilidad_y).sum()\n",
        "divergencia_KL"
      ],
      "execution_count": null,
      "outputs": [
        {
          "output_type": "execute_result",
          "data": {
            "text/plain": [
              "0.003306892613053891"
            ]
          },
          "metadata": {},
          "execution_count": 26
        }
      ]
    }
  ]
}