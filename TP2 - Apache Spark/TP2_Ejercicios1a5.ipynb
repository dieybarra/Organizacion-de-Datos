{
  "nbformat": 4,
  "nbformat_minor": 0,
  "metadata": {
    "kernelspec": {
      "display_name": "Python 3",
      "language": "python",
      "name": "python3"
    },
    "language_info": {
      "codemirror_mode": {
        "name": "ipython",
        "version": 3
      },
      "file_extension": ".py",
      "mimetype": "text/x-python",
      "name": "python",
      "nbconvert_exporter": "python",
      "pygments_lexer": "ipython3",
      "version": "3.7.3"
    },
    "colab": {
      "name": "TP2-Ejercicios1a5",
      "provenance": [],
      "collapsed_sections": [
        "KLCow8sYSRUL",
        "ptmH8m31SdAm",
        "V3KEZnbSV76n",
        "HuyvBy_WGJNc",
        "gLkUPVSbGNhL",
        "ztL4Ady4ak_G",
        "cds7MOOQnWiR",
        "UOr00Ecvw6Ln"
      ]
    }
  },
  "cells": [
    {
      "cell_type": "markdown",
      "metadata": {
        "id": "KLCow8sYSRUL"
      },
      "source": [
        "# Instalamos e importamos librerías"
      ]
    },
    {
      "cell_type": "code",
      "metadata": {
        "id": "caWRNg5SSVG7",
        "colab": {
          "base_uri": "https://localhost:8080/"
        },
        "outputId": "64334042-30cf-423c-d98c-f2e4919e52ff"
      },
      "source": [
        "!pip install pyarrow\n",
        "!pip install pyspark\n",
        "!pip install -U -q PyDrive\n",
        "!apt update\n",
        "!apt install openjdk-8-jdk-headless -qq\n",
        "#!apt install default-jre\n",
        "#!apt install default-jdk\n",
        "import os\n",
        "os.environ[\"JAVA_HOME\"] = \"/usr/lib/jvm/java-8-openjdk-amd64\""
      ],
      "execution_count": null,
      "outputs": [
        {
          "output_type": "stream",
          "name": "stdout",
          "text": [
            "Requirement already satisfied: pyarrow in /usr/local/lib/python3.7/dist-packages (3.0.0)\n",
            "Requirement already satisfied: numpy>=1.16.6 in /usr/local/lib/python3.7/dist-packages (from pyarrow) (1.19.5)\n",
            "Requirement already satisfied: pyspark in /usr/local/lib/python3.7/dist-packages (3.2.0)\n",
            "Requirement already satisfied: py4j==0.10.9.2 in /usr/local/lib/python3.7/dist-packages (from pyspark) (0.10.9.2)\n",
            "Hit:1 https://cloud.r-project.org/bin/linux/ubuntu bionic-cran40/ InRelease\n",
            "Ign:2 https://developer.download.nvidia.com/compute/cuda/repos/ubuntu1804/x86_64  InRelease\n",
            "Ign:3 https://developer.download.nvidia.com/compute/machine-learning/repos/ubuntu1804/x86_64  InRelease\n",
            "Hit:4 http://ppa.launchpad.net/c2d4u.team/c2d4u4.0+/ubuntu bionic InRelease\n",
            "Hit:5 https://developer.download.nvidia.com/compute/cuda/repos/ubuntu1804/x86_64  Release\n",
            "Get:6 http://security.ubuntu.com/ubuntu bionic-security InRelease [88.7 kB]\n",
            "Hit:7 https://developer.download.nvidia.com/compute/machine-learning/repos/ubuntu1804/x86_64  Release\n",
            "Hit:8 http://archive.ubuntu.com/ubuntu bionic InRelease\n",
            "Hit:9 http://ppa.launchpad.net/cran/libgit2/ubuntu bionic InRelease\n",
            "Get:10 http://archive.ubuntu.com/ubuntu bionic-updates InRelease [88.7 kB]\n",
            "Hit:11 http://ppa.launchpad.net/deadsnakes/ppa/ubuntu bionic InRelease\n",
            "Hit:13 http://ppa.launchpad.net/graphics-drivers/ppa/ubuntu bionic InRelease\n",
            "Get:14 http://archive.ubuntu.com/ubuntu bionic-backports InRelease [74.6 kB]\n",
            "Fetched 252 kB in 2s (112 kB/s)\n",
            "Reading package lists... Done\n",
            "Building dependency tree       \n",
            "Reading state information... Done\n",
            "63 packages can be upgraded. Run 'apt list --upgradable' to see them.\n",
            "openjdk-8-jdk-headless is already the newest version (8u292-b10-0ubuntu1~18.04).\n",
            "The following package was automatically installed and is no longer required:\n",
            "  libnvidia-common-460\n",
            "Use 'apt autoremove' to remove it.\n",
            "0 upgraded, 0 newly installed, 0 to remove and 63 not upgraded.\n"
          ]
        }
      ]
    },
    {
      "cell_type": "code",
      "metadata": {
        "id": "PwC4R5OESXY0"
      },
      "source": [
        "from pydrive.auth import GoogleAuth\n",
        "from pydrive.drive import GoogleDrive\n",
        "from google.colab import auth\n",
        "from oauth2client.client import GoogleCredentials\n",
        "from pyspark.sql import *\n",
        "from pyspark.sql.functions import *\n",
        "from pyspark import SparkContext\n",
        "from pyspark.sql import SQLContext\n",
        "import pandas as pd"
      ],
      "execution_count": null,
      "outputs": []
    },
    {
      "cell_type": "markdown",
      "metadata": {
        "id": "ptmH8m31SdAm"
      },
      "source": [
        "# Autenticamos con Google Drive"
      ]
    },
    {
      "cell_type": "code",
      "metadata": {
        "id": "bo52mNzNSfhP"
      },
      "source": [
        "auth.authenticate_user()\n",
        "gauth = GoogleAuth()\n",
        "gauth.credentials = GoogleCredentials.get_application_default()\n",
        "drive = GoogleDrive(gauth)"
      ],
      "execution_count": null,
      "outputs": []
    },
    {
      "cell_type": "markdown",
      "metadata": {
        "id": "V3KEZnbSV76n"
      },
      "source": [
        "# Creamos el Spark Context"
      ]
    },
    {
      "cell_type": "code",
      "metadata": {
        "id": "RO1cRZx2V2cm",
        "colab": {
          "base_uri": "https://localhost:8080/",
          "height": 204
        },
        "outputId": "bb271817-62bb-4159-932c-1e7bb5357777"
      },
      "source": [
        "spark = SparkSession.builder.getOrCreate()\n",
        "sc = spark.sparkContext\n",
        "sqlContext = SQLContext(sc)"
      ],
      "execution_count": null,
      "outputs": [
        {
          "output_type": "error",
          "ename": "NameError",
          "evalue": "ignored",
          "traceback": [
            "\u001b[0;31m---------------------------------------------------------------------------\u001b[0m",
            "\u001b[0;31mNameError\u001b[0m                                 Traceback (most recent call last)",
            "\u001b[0;32m<ipython-input-1-29681bb5bf35>\u001b[0m in \u001b[0;36m<module>\u001b[0;34m()\u001b[0m\n\u001b[0;32m----> 1\u001b[0;31m \u001b[0mspark\u001b[0m \u001b[0;34m=\u001b[0m \u001b[0mSparkSession\u001b[0m\u001b[0;34m.\u001b[0m\u001b[0mbuilder\u001b[0m\u001b[0;34m.\u001b[0m\u001b[0mgetOrCreate\u001b[0m\u001b[0;34m(\u001b[0m\u001b[0;34m)\u001b[0m\u001b[0;34m\u001b[0m\u001b[0;34m\u001b[0m\u001b[0m\n\u001b[0m\u001b[1;32m      2\u001b[0m \u001b[0msc\u001b[0m \u001b[0;34m=\u001b[0m \u001b[0mspark\u001b[0m\u001b[0;34m.\u001b[0m\u001b[0msparkContext\u001b[0m\u001b[0;34m\u001b[0m\u001b[0;34m\u001b[0m\u001b[0m\n\u001b[1;32m      3\u001b[0m \u001b[0msqlContext\u001b[0m \u001b[0;34m=\u001b[0m \u001b[0mSQLContext\u001b[0m\u001b[0;34m(\u001b[0m\u001b[0msc\u001b[0m\u001b[0;34m)\u001b[0m\u001b[0;34m\u001b[0m\u001b[0;34m\u001b[0m\u001b[0m\n",
            "\u001b[0;31mNameError\u001b[0m: name 'SparkSession' is not defined"
          ]
        }
      ]
    },
    {
      "cell_type": "markdown",
      "metadata": {
        "id": "HuyvBy_WGJNc"
      },
      "source": [
        "#Ejercicio 34"
      ]
    },
    {
      "cell_type": "code",
      "metadata": {
        "id": "ILksnwKy97lC"
      },
      "source": [
        "downloaded = drive.CreateFile({'id':\"1ii6j8Mex52FFWCLa4coVX6s47GuXN0B3\"})\n",
        "downloaded.GetContentFile('logs.csv') "
      ],
      "execution_count": null,
      "outputs": []
    },
    {
      "cell_type": "code",
      "metadata": {
        "id": "T6dCiDqIRQFX",
        "colab": {
          "base_uri": "https://localhost:8080/"
        },
        "outputId": "147c39fd-195a-4088-c160-ef3557a24d14"
      },
      "source": [
        "texts = pd.read_csv('logs.csv')\n",
        "texts.to_parquet('logs.parquet')\n",
        "del texts\n",
        "df = sqlContext.read.parquet('logs.parquet')\n",
        "logs_rdd = df.rdd"
      ],
      "execution_count": null,
      "outputs": [
        {
          "output_type": "stream",
          "name": "stderr",
          "text": [
            "/usr/local/lib/python3.7/dist-packages/IPython/core/interactiveshell.py:2718: DtypeWarning: Columns (4) have mixed types.Specify dtype option on import or set low_memory=False.\n",
            "  interactivity=interactivity, compiler=compiler, result=result)\n"
          ]
        }
      ]
    },
    {
      "cell_type": "code",
      "metadata": {
        "colab": {
          "base_uri": "https://localhost:8080/"
        },
        "id": "tnmBsmbP5VcI",
        "outputId": "f520508d-5816-4709-c30e-aacc7f2d35b1"
      },
      "source": [
        "logs_rdd.take(5)"
      ],
      "execution_count": null,
      "outputs": [
        {
          "output_type": "execute_result",
          "data": {
            "text/plain": [
              "[Row(item_id=1, timestamp='2004-12-23T07:10:09Z', contributor_username='Sabbut', contributor_id=2075.0, contributor_ip=None, comment=\"el contenido era: 'Si aprendés Pensamiento Científico ... TE VA S AENTERAR'\", logtype='delete', action='delete', title='Verificacionismo'),\n",
              " Row(item_id=2, timestamp='2004-12-23T07:14:09Z', contributor_username='Sabbut', contributor_id=2075.0, contributor_ip=None, comment=\"el contenido era: '{{destruir}}en algun lugar lejano pero tan cerca como el largo del cuello de una jirafa se encontraba una torre'\", logtype='delete', action='delete', title='Rapunzel'),\n",
              " Row(item_id=3, timestamp='2004-12-23T07:26:10Z', contributor_username='Sabbut', contributor_id=2075.0, contributor_ip=None, comment=\"el contenido era: '#REDIRECT [[Flash]]'\", logtype='delete', action='delete', title='Macromedia Flash'),\n",
              " Row(item_id=4, timestamp='2004-12-23T07:55:09Z', contributor_username='Sanbec', contributor_id=7856.0, contributor_ip=None, comment='Sin información de origen ni de licencia. Hay alternativas en commons', logtype='delete', action='delete', title='Archivo:Gnu head.png'),\n",
              " Row(item_id=5, timestamp='2004-12-23T08:02:22Z', contributor_username='Sanbec', contributor_id=7856.0, contributor_ip=None, comment='Sustituida por  [[commons:Image:Heckert_GNU.png]]', logtype='delete', action='delete', title='Archivo:Gnu-head-sm.jpg')]"
            ]
          },
          "metadata": {},
          "execution_count": 7
        }
      ]
    },
    {
      "cell_type": "code",
      "metadata": {
        "id": "354Va1AeOa7E"
      },
      "source": [
        "users_blocks = logs_rdd.filter(lambda x: x.action != None and 'block' in x.action).map(lambda x: (x.contributor_username, 1)).cache()"
      ],
      "execution_count": null,
      "outputs": []
    },
    {
      "cell_type": "code",
      "metadata": {
        "colab": {
          "base_uri": "https://localhost:8080/"
        },
        "id": "K2jNn2-a-GoV",
        "outputId": "c6922a83-2b1f-4340-da28-e8b009a45974"
      },
      "source": [
        "users_blocks.take(5)"
      ],
      "execution_count": null,
      "outputs": [
        {
          "output_type": "execute_result",
          "data": {
            "text/plain": [
              "[('Dodo', 1), ('Dodo', 1), ('Dodo', 1), ('Dodo', 1), ('Comae', 1)]"
            ]
          },
          "metadata": {},
          "execution_count": 9
        }
      ]
    },
    {
      "cell_type": "code",
      "metadata": {
        "colab": {
          "base_uri": "https://localhost:8080/"
        },
        "id": "vP-ock3v6uSc",
        "outputId": "4a5969a0-0cc5-46f7-c2b2-920162aa4bc2"
      },
      "source": [
        "users_blocks.reduceByKey(lambda x,y: x+y).reduce(lambda x,y: x if x[1]>y[1] else y)"
      ],
      "execution_count": null,
      "outputs": [
        {
          "output_type": "execute_result",
          "data": {
            "text/plain": [
              "('Magister Mathematicae', 30155)"
            ]
          },
          "metadata": {},
          "execution_count": 11
        }
      ]
    },
    {
      "cell_type": "markdown",
      "metadata": {
        "id": "gLkUPVSbGNhL"
      },
      "source": [
        "#Ejercicio 18\n"
      ]
    },
    {
      "cell_type": "code",
      "metadata": {
        "id": "xEx4ck87GM-6"
      },
      "source": [
        "downloaded = drive.CreateFile({'id':\"1caGHf_GS2-XSVxggt4WnFSGymgsy3DHq\"})\n",
        "downloaded.GetContentFile('languages.csv') "
      ],
      "execution_count": null,
      "outputs": []
    },
    {
      "cell_type": "code",
      "metadata": {
        "id": "c0qhhXTzxx_v"
      },
      "source": [
        "texts = pd.read_csv('languages.csv')\n",
        "texts.to_parquet('languages.parquet')\n",
        "del texts\n",
        "df = sqlContext.read.parquet('languages.parquet')\n",
        "languages_rdd = df.rdd"
      ],
      "execution_count": null,
      "outputs": []
    },
    {
      "cell_type": "code",
      "metadata": {
        "id": "YVT_IWSDUaRl"
      },
      "source": [
        "comprension = languages_rdd.filter(lambda x: x.babel_level in ('1', '2', '3', '4', 'N', '5'))\n",
        "basico = languages_rdd.filter(lambda x: x.babel_level in ('2', '3', '4', 'N', '5'))\n",
        "avanzado = languages_rdd.filter(lambda x: x.babel_level == '5')"
      ],
      "execution_count": null,
      "outputs": []
    },
    {
      "cell_type": "code",
      "metadata": {
        "id": "J83ubGAsX701"
      },
      "source": [
        "categorias = []\n",
        "\n",
        "for rdd in (comprension, basico, avanzado):\n",
        "\n",
        "  categorias.append(rdd.filter(lambda x: x.babel_lang != None).map(lambda x: (x.babel_lang.lower(), 1)).reduceByKey(lambda x,y: x+y))"
      ],
      "execution_count": null,
      "outputs": []
    },
    {
      "cell_type": "markdown",
      "metadata": {
        "id": "zVvjObJpGOQ8"
      },
      "source": [
        "Comprenden el idioma"
      ]
    },
    {
      "cell_type": "code",
      "metadata": {
        "colab": {
          "base_uri": "https://localhost:8080/"
        },
        "id": "b2zB2Jt-YnoK",
        "outputId": "2df8c361-5028-4e35-d155-b94fc30e2db1"
      },
      "source": [
        "categorias[0].collect()"
      ],
      "execution_count": null,
      "outputs": [
        {
          "output_type": "execute_result",
          "data": {
            "text/plain": [
              "[('fr', 3488),\n",
              " ('ab', 1),\n",
              " ('acf', 1),\n",
              " ('af', 10),\n",
              " ('agr', 1),\n",
              " ('akk', 1),\n",
              " ('aln', 2),\n",
              " ('am', 2),\n",
              " ('an', 57),\n",
              " ('ang', 6),\n",
              " ('ar', 161),\n",
              " ('arc', 3),\n",
              " ('arn', 15),\n",
              " ('ary', 1),\n",
              " ('ase', 2),\n",
              " ('ast', 152),\n",
              " ('avk', 1),\n",
              " ('ay', 4),\n",
              " ('az', 6),\n",
              " ('azb', 1),\n",
              " ('bar', 6),\n",
              " ('bcl', 1),\n",
              " ('be', 24),\n",
              " ('bew', 1),\n",
              " ('bg', 30),\n",
              " ('bjn', 1),\n",
              " ('bn', 1),\n",
              " ('br', 2),\n",
              " ('bs', 13),\n",
              " ('ca', 1289),\n",
              " ('cak', 1),\n",
              " ('cas', 1),\n",
              " ('cbk', 1),\n",
              " ('ceb', 3),\n",
              " ('ch', 2),\n",
              " ('chr', 1),\n",
              " ('ckb', 1),\n",
              " ('cmn', 1),\n",
              " ('cnt', 1),\n",
              " ('co', 7),\n",
              " ('cs', 44),\n",
              " ('csb', 1),\n",
              " ('csc', 1),\n",
              " ('csn', 1),\n",
              " ('cu', 1),\n",
              " ('cv', 2),\n",
              " ('cy', 7),\n",
              " ('da', 41),\n",
              " ('de', 1644),\n",
              " ('de-at', 2),\n",
              " ('egy', 1),\n",
              " ('el', 108),\n",
              " ('eml', 1),\n",
              " ('en', 9454),\n",
              " ('en-ca', 2),\n",
              " ('en-gb', 8),\n",
              " ('eo', 258),\n",
              " ('es', 10223),\n",
              " ('et', 15),\n",
              " ('eu', 229),\n",
              " ('ext', 19),\n",
              " ('fa', 30),\n",
              " ('fax', 1),\n",
              " ('fi', 52),\n",
              " ('fil', 1),\n",
              " ('fo', 2),\n",
              " ('frp', 6),\n",
              " ('fur', 2),\n",
              " ('fy', 2),\n",
              " ('ga', 19),\n",
              " ('gan', 1),\n",
              " ('gd', 2),\n",
              " ('gl', 472),\n",
              " ('gn', 47),\n",
              " ('gom-latn', 1),\n",
              " ('grc', 69),\n",
              " ('gsw', 12),\n",
              " ('guc', 3),\n",
              " ('gym', 1),\n",
              " ('haw', 1),\n",
              " ('hch', 1),\n",
              " ('he', 82),\n",
              " ('hi', 16),\n",
              " ('hr', 41),\n",
              " ('hsb', 3),\n",
              " ('ht', 4),\n",
              " ('hu', 34),\n",
              " ('hy', 7),\n",
              " ('ia', 21),\n",
              " ('id', 22),\n",
              " ('ie', 3),\n",
              " ('ilo', 1),\n",
              " ('io', 12),\n",
              " ('is', 13),\n",
              " ('ise', 1),\n",
              " ('it', 1743),\n",
              " ('ja', 439),\n",
              " ('jbo', 2),\n",
              " ('jv', 5),\n",
              " ('ka', 6),\n",
              " ('kbp', 1),\n",
              " ('kea', 1),\n",
              " ('kk', 4),\n",
              " ('kl', 1),\n",
              " ('km', 1),\n",
              " ('kn', 3),\n",
              " ('ko', 58),\n",
              " ('krl', 1),\n",
              " ('ku', 1),\n",
              " ('kw', 1),\n",
              " ('ky', 3),\n",
              " ('la', 441),\n",
              " ('lad', 42),\n",
              " ('lb', 4),\n",
              " ('lez', 1),\n",
              " ('lfn', 3),\n",
              " ('li', 1),\n",
              " ('lij', 2),\n",
              " ('lmo', 8),\n",
              " ('ln', 1),\n",
              " ('lo', 2),\n",
              " ('lt', 15),\n",
              " ('ltg', 1),\n",
              " ('lv', 9),\n",
              " ('lzh', 2),\n",
              " ('lzz', 1),\n",
              " ('mad', 1),\n",
              " ('map-bms', 1),\n",
              " ('mbr', 1),\n",
              " ('mfs', 1),\n",
              " ('mg', 3),\n",
              " ('mi', 1),\n",
              " ('min', 1),\n",
              " ('miq', 1),\n",
              " ('mk', 15),\n",
              " ('ml', 1),\n",
              " ('mnw', 1),\n",
              " ('mo', 1),\n",
              " ('mr', 2),\n",
              " ('ms', 8),\n",
              " ('mt', 2),\n",
              " ('mur', 1),\n",
              " ('mwl', 6),\n",
              " ('my', 1),\n",
              " ('nah', 42),\n",
              " ('nap', 8),\n",
              " ('nb', 3),\n",
              " ('nds', 10),\n",
              " ('nia', 1),\n",
              " ('nl', 136),\n",
              " ('nla', 1),\n",
              " ('nn', 11),\n",
              " ('no', 46),\n",
              " ('non', 1),\n",
              " ('nov', 1),\n",
              " ('nrm', 1),\n",
              " ('nv', 1),\n",
              " ('oc', 44),\n",
              " ('oj', 1),\n",
              " ('ots', 1),\n",
              " ('pag', 1),\n",
              " ('pam', 1),\n",
              " ('pap', 2),\n",
              " ('pbb', 1),\n",
              " ('pcd', 1),\n",
              " ('pfl', 1),\n",
              " ('pl', 143),\n",
              " ('pms', 7),\n",
              " ('pnb', 1),\n",
              " ('ppl', 1),\n",
              " ('prl', 1),\n",
              " ('pt', 1617),\n",
              " ('pt-br', 25),\n",
              " ('qu', 40),\n",
              " ('qub', 1),\n",
              " ('qwh', 2),\n",
              " ('qya', 13),\n",
              " ('rgn', 1),\n",
              " ('rm', 8),\n",
              " ('ro', 62),\n",
              " ('ru', 437),\n",
              " ('rue', 2),\n",
              " ('rup', 1),\n",
              " ('rw', 1),\n",
              " ('sa', 12),\n",
              " ('sc', 9),\n",
              " ('scn', 11),\n",
              " ('sco', 6),\n",
              " ('sdc', 2),\n",
              " ('sdh', 1),\n",
              " ('sdn', 1),\n",
              " ('se', 1),\n",
              " ('sgs', 3),\n",
              " ('sh', 13),\n",
              " ('shn', 1),\n",
              " ('shp', 1),\n",
              " ('si', 2),\n",
              " ('simple', 12),\n",
              " ('sjn', 5),\n",
              " ('sk', 24),\n",
              " ('sl', 19),\n",
              " ('sm', 2),\n",
              " ('sq', 8),\n",
              " ('sr', 35),\n",
              " ('ssp', 6),\n",
              " ('su', 3),\n",
              " ('sv', 111),\n",
              " ('sw', 8),\n",
              " ('ta', 4),\n",
              " ('te', 2),\n",
              " ('tet', 1),\n",
              " ('tg', 2),\n",
              " ('th', 15),\n",
              " ('ti', 1),\n",
              " ('tk', 1),\n",
              " ('tl', 9),\n",
              " ('tmr', 1),\n",
              " ('tpi', 1),\n",
              " ('tr', 38),\n",
              " ('tzh', 1),\n",
              " ('tzm', 1),\n",
              " ('tzo', 1),\n",
              " ('ugy', 1),\n",
              " ('uk', 65),\n",
              " ('ur', 5),\n",
              " ('uz', 4),\n",
              " ('vec', 10),\n",
              " ('vi', 9),\n",
              " ('vsv', 1),\n",
              " ('wa', 2),\n",
              " ('war', 1),\n",
              " ('wuu', 1),\n",
              " ('xcw', 1),\n",
              " ('yi', 8),\n",
              " ('yua', 2),\n",
              " ('yue', 9),\n",
              " ('zap', 1),\n",
              " ('zea', 1),\n",
              " ('zh', 191),\n",
              " ('zh-hans', 1),\n",
              " ('zh-hans-cn', 3),\n",
              " ('zh-hant', 1),\n",
              " ('zh-hant-hk', 1),\n",
              " ('zh-hant-tw', 1),\n",
              " ('zza', 1)]"
            ]
          },
          "metadata": {},
          "execution_count": 16
        }
      ]
    },
    {
      "cell_type": "markdown",
      "metadata": {
        "id": "PylzeqT5GSQ6"
      },
      "source": [
        "Nivel de escritura y lectura de basico para arriba\n"
      ]
    },
    {
      "cell_type": "code",
      "metadata": {
        "colab": {
          "base_uri": "https://localhost:8080/"
        },
        "id": "xx4Y0umkY9LI",
        "outputId": "7fb94cf7-5485-41e2-ef05-484b05909f11"
      },
      "source": [
        "categorias[1].collect()"
      ],
      "execution_count": null,
      "outputs": [
        {
          "output_type": "execute_result",
          "data": {
            "text/plain": [
              "[('fr', 2016),\n",
              " ('af', 4),\n",
              " ('aln', 2),\n",
              " ('am', 2),\n",
              " ('an', 19),\n",
              " ('ang', 3),\n",
              " ('ar', 69),\n",
              " ('arc', 2),\n",
              " ('arn', 5),\n",
              " ('ary', 1),\n",
              " ('ase', 1),\n",
              " ('ast', 94),\n",
              " ('avk', 1),\n",
              " ('az', 5),\n",
              " ('azb', 1),\n",
              " ('bar', 4),\n",
              " ('be', 16),\n",
              " ('bew', 1),\n",
              " ('bg', 15),\n",
              " ('bn', 1),\n",
              " ('br', 2),\n",
              " ('bs', 9),\n",
              " ('ca', 1029),\n",
              " ('cas', 1),\n",
              " ('ch', 2),\n",
              " ('chr', 1),\n",
              " ('ckb', 1),\n",
              " ('cmn', 1),\n",
              " ('cnt', 1),\n",
              " ('co', 3),\n",
              " ('cs', 27),\n",
              " ('csn', 1),\n",
              " ('cv', 1),\n",
              " ('cy', 2),\n",
              " ('da', 23),\n",
              " ('de', 913),\n",
              " ('el', 45),\n",
              " ('eml', 1),\n",
              " ('en', 8629),\n",
              " ('en-ca', 1),\n",
              " ('en-gb', 8),\n",
              " ('eo', 116),\n",
              " ('es', 9862),\n",
              " ('et', 6),\n",
              " ('eu', 173),\n",
              " ('ext', 10),\n",
              " ('fa', 23),\n",
              " ('fax', 1),\n",
              " ('fi', 30),\n",
              " ('fil', 1),\n",
              " ('fo', 2),\n",
              " ('frp', 3),\n",
              " ('fur', 1),\n",
              " ('ga', 7),\n",
              " ('gan', 1),\n",
              " ('gl', 354),\n",
              " ('gn', 35),\n",
              " ('gom-latn', 1),\n",
              " ('grc', 25),\n",
              " ('gsw', 9),\n",
              " ('guc', 3),\n",
              " ('gym', 1),\n",
              " ('haw', 1),\n",
              " ('he', 50),\n",
              " ('hi', 6),\n",
              " ('hr', 25),\n",
              " ('hu', 22),\n",
              " ('hy', 4),\n",
              " ('ia', 10),\n",
              " ('id', 13),\n",
              " ('ie', 2),\n",
              " ('io', 3),\n",
              " ('is', 4),\n",
              " ('ise', 1),\n",
              " ('it', 903),\n",
              " ('ja', 165),\n",
              " ('jbo', 1),\n",
              " ('jv', 3),\n",
              " ('ka', 4),\n",
              " ('kbp', 1),\n",
              " ('kea', 1),\n",
              " ('kk', 3),\n",
              " ('kn', 1),\n",
              " ('ko', 27),\n",
              " ('krl', 1),\n",
              " ('ku', 1),\n",
              " ('ky', 1),\n",
              " ('la', 196),\n",
              " ('lad', 12),\n",
              " ('lb', 1),\n",
              " ('lfn', 3),\n",
              " ('li', 1),\n",
              " ('lij', 2),\n",
              " ('lmo', 7),\n",
              " ('ln', 1),\n",
              " ('lt', 11),\n",
              " ('lv', 5),\n",
              " ('lzh', 2),\n",
              " ('lzz', 1),\n",
              " ('map-bms', 1),\n",
              " ('mg', 1),\n",
              " ('mk', 7),\n",
              " ('ml', 1),\n",
              " ('mnw', 1),\n",
              " ('mr', 1),\n",
              " ('ms', 2),\n",
              " ('mur', 1),\n",
              " ('mwl', 2),\n",
              " ('my', 1),\n",
              " ('nah', 16),\n",
              " ('nap', 2),\n",
              " ('nb', 3),\n",
              " ('nds', 4),\n",
              " ('nl', 77),\n",
              " ('nla', 1),\n",
              " ('nn', 4),\n",
              " ('no', 22),\n",
              " ('oc', 18),\n",
              " ('ots', 1),\n",
              " ('pfl', 1),\n",
              " ('pl', 91),\n",
              " ('pms', 5),\n",
              " ('pnb', 1),\n",
              " ('ppl', 1),\n",
              " ('prl', 1),\n",
              " ('pt', 906),\n",
              " ('pt-br', 18),\n",
              " ('qu', 10),\n",
              " ('qwh', 1),\n",
              " ('qya', 2),\n",
              " ('rm', 3),\n",
              " ('ro', 30),\n",
              " ('ru', 252),\n",
              " ('rw', 1),\n",
              " ('sa', 2),\n",
              " ('sc', 4),\n",
              " ('scn', 6),\n",
              " ('sco', 2),\n",
              " ('sdc', 1),\n",
              " ('sdh', 1),\n",
              " ('sdn', 1),\n",
              " ('se', 1),\n",
              " ('sgs', 3),\n",
              " ('sh', 8),\n",
              " ('si', 2),\n",
              " ('simple', 12),\n",
              " ('sjn', 1),\n",
              " ('sk', 12),\n",
              " ('sl', 5),\n",
              " ('sq', 6),\n",
              " ('sr', 22),\n",
              " ('ssp', 4),\n",
              " ('su', 2),\n",
              " ('sv', 67),\n",
              " ('sw', 4),\n",
              " ('ta', 3),\n",
              " ('te', 2),\n",
              " ('tg', 1),\n",
              " ('th', 6),\n",
              " ('tk', 1),\n",
              " ('tl', 5),\n",
              " ('tmr', 1),\n",
              " ('tpi', 1),\n",
              " ('tr', 20),\n",
              " ('uk', 45),\n",
              " ('ur', 4),\n",
              " ('uz', 1),\n",
              " ('vec', 5),\n",
              " ('vi', 5),\n",
              " ('vsv', 1),\n",
              " ('wa', 1),\n",
              " ('wuu', 1),\n",
              " ('xcw', 1),\n",
              " ('yi', 5),\n",
              " ('yua', 1),\n",
              " ('yue', 7),\n",
              " ('zea', 1),\n",
              " ('zh', 81),\n",
              " ('zh-hans', 1),\n",
              " ('zh-hans-cn', 3),\n",
              " ('zh-hant', 1),\n",
              " ('zh-hant-tw', 1),\n",
              " ('zza', 1)]"
            ]
          },
          "metadata": {},
          "execution_count": 17
        }
      ]
    },
    {
      "cell_type": "markdown",
      "metadata": {
        "id": "zjPNCi-YGV9h"
      },
      "source": [
        "Uso avanzado del idioma\n"
      ]
    },
    {
      "cell_type": "code",
      "metadata": {
        "colab": {
          "base_uri": "https://localhost:8080/"
        },
        "id": "x49LCbrGZFTY",
        "outputId": "b7c21df1-54a6-49c7-a658-f59c6ff9cb2b"
      },
      "source": [
        "categorias[2].collect()"
      ],
      "execution_count": null,
      "outputs": [
        {
          "output_type": "execute_result",
          "data": {
            "text/plain": [
              "[('ast', 2),\n",
              " ('bs', 1),\n",
              " ('ca', 14),\n",
              " ('de', 24),\n",
              " ('el', 3),\n",
              " ('en', 315),\n",
              " ('es', 176),\n",
              " ('fa', 1),\n",
              " ('fr', 41),\n",
              " ('gl', 3),\n",
              " ('gn', 1),\n",
              " ('hr', 1),\n",
              " ('hu', 1),\n",
              " ('it', 16),\n",
              " ('ja', 2),\n",
              " ('la', 3),\n",
              " ('pl', 2),\n",
              " ('pt', 21),\n",
              " ('pt-br', 2),\n",
              " ('ru', 7),\n",
              " ('scn', 1),\n",
              " ('sh', 1),\n",
              " ('simple', 1),\n",
              " ('sr', 2),\n",
              " ('uk', 1),\n",
              " ('zh', 1),\n",
              " ('zh-hans', 1)]"
            ]
          },
          "metadata": {},
          "execution_count": 18
        }
      ]
    },
    {
      "cell_type": "markdown",
      "metadata": {
        "id": "ztL4Ady4ak_G"
      },
      "source": [
        "#Ejercicio 19"
      ]
    },
    {
      "cell_type": "code",
      "metadata": {
        "id": "6LGgxT00aHiQ"
      },
      "source": [
        "downloaded = drive.CreateFile({'id':\"1k3iTFERn35WYA9zWpPMvzdnSjCdsyWaF\"})\n",
        "downloaded.GetContentFile('geotags.csv')"
      ],
      "execution_count": null,
      "outputs": []
    },
    {
      "cell_type": "code",
      "metadata": {
        "colab": {
          "base_uri": "https://localhost:8080/"
        },
        "id": "eCB39uWpffYc",
        "outputId": "437fa19c-d24b-49e6-f6c3-d26f06995f52"
      },
      "source": [
        "sqlContext = SQLContext(sc)\n",
        "df = sqlContext.read.csv('geotags.csv', header=True, inferSchema=True)\n",
        "geotags_rdd = df.rdd"
      ],
      "execution_count": null,
      "outputs": [
        {
          "output_type": "stream",
          "name": "stderr",
          "text": [
            "/usr/local/lib/python3.7/dist-packages/pyspark/sql/context.py:79: FutureWarning: Deprecated in 3.0.0. Use SparkSession.builder.getOrCreate() instead.\n",
            "  FutureWarning\n"
          ]
        }
      ]
    },
    {
      "cell_type": "code",
      "metadata": {
        "colab": {
          "base_uri": "https://localhost:8080/"
        },
        "id": "vHyyoOTXfnq7",
        "outputId": "b2d1907b-9010-4ba9-e8ff-598c0f6c0442"
      },
      "source": [
        "geotags_rdd.take(5)"
      ],
      "execution_count": null,
      "outputs": [
        {
          "output_type": "execute_result",
          "data": {
            "text/plain": [
              "[Row(gt_id='158041', gt_page_id=4328020, gt_globe='earth', gt_primary=0, gt_lat=41.50749969, gt_lon=-5.81750011, gt_dim=1000, gt_type=None, gt_name=None, gt_country=None, gt_region=None),\n",
              " Row(gt_id='5844377', gt_page_id=4670424, gt_globe='earth', gt_primary=0, gt_lat=13.73799992, gt_lon=-89.29199982, gt_dim=10000, gt_type='city', gt_name=None, gt_country=None, gt_region=None),\n",
              " Row(gt_id='5844381', gt_page_id=4670424, gt_globe='earth', gt_primary=0, gt_lat=13.70199966, gt_lon=-89.20800018, gt_dim=10000, gt_type='city', gt_name=None, gt_country=None, gt_region=None),\n",
              " Row(gt_id='5844383', gt_page_id=4670424, gt_globe='earth', gt_primary=0, gt_lat=13.39999962, gt_lon=-89.75, gt_dim=10000, gt_type='city', gt_name=None, gt_country=None, gt_region=None),\n",
              " Row(gt_id='5844388', gt_page_id=4670424, gt_globe='earth', gt_primary=0, gt_lat=12.85000038, gt_lon=-88.0, gt_dim=10000, gt_type='city', gt_name=None, gt_country=None, gt_region=None)]"
            ]
          },
          "metadata": {},
          "execution_count": 21
        }
      ]
    },
    {
      "cell_type": "code",
      "metadata": {
        "id": "Z3KBnuTih2hY"
      },
      "source": [
        "planetas_menos_tierra = ('mercury', 'venus', 'mars', 'jupiter', 'neptune', 'saturn', 'uranus')"
      ],
      "execution_count": null,
      "outputs": []
    },
    {
      "cell_type": "code",
      "metadata": {
        "colab": {
          "base_uri": "https://localhost:8080/"
        },
        "id": "HxNOCutof8Wb",
        "outputId": "01fbf294-aa1d-43b6-d7a6-243b72342c65"
      },
      "source": [
        "geotags_rdd.filter(lambda x: x.gt_globe in planetas_menos_tierra).map(lambda x: (x.gt_globe, 1)).reduceByKey(lambda x,y: x+y).collect()"
      ],
      "execution_count": null,
      "outputs": [
        {
          "output_type": "execute_result",
          "data": {
            "text/plain": [
              "[('mars', 1438), ('mercury', 561), ('venus', 24)]"
            ]
          },
          "metadata": {},
          "execution_count": 23
        }
      ]
    },
    {
      "cell_type": "markdown",
      "metadata": {
        "id": "cds7MOOQnWiR"
      },
      "source": [
        "#Ejercicio 39"
      ]
    },
    {
      "cell_type": "code",
      "metadata": {
        "colab": {
          "base_uri": "https://localhost:8080/"
        },
        "id": "h8YqOkvPnY0O",
        "outputId": "6364dab0-c3be-4d85-e061-4082a2f738a7"
      },
      "source": [
        "logs_rdd.take(5)"
      ],
      "execution_count": null,
      "outputs": [
        {
          "output_type": "execute_result",
          "data": {
            "text/plain": [
              "[Row(item_id=1, timestamp='2004-12-23T07:10:09Z', contributor_username='Sabbut', contributor_id=2075.0, contributor_ip=None, comment=\"el contenido era: 'Si aprendés Pensamiento Científico ... TE VA S AENTERAR'\", logtype='delete', action='delete', title='Verificacionismo'),\n",
              " Row(item_id=2, timestamp='2004-12-23T07:14:09Z', contributor_username='Sabbut', contributor_id=2075.0, contributor_ip=None, comment=\"el contenido era: '{{destruir}}en algun lugar lejano pero tan cerca como el largo del cuello de una jirafa se encontraba una torre'\", logtype='delete', action='delete', title='Rapunzel'),\n",
              " Row(item_id=3, timestamp='2004-12-23T07:26:10Z', contributor_username='Sabbut', contributor_id=2075.0, contributor_ip=None, comment=\"el contenido era: '#REDIRECT [[Flash]]'\", logtype='delete', action='delete', title='Macromedia Flash'),\n",
              " Row(item_id=4, timestamp='2004-12-23T07:55:09Z', contributor_username='Sanbec', contributor_id=7856.0, contributor_ip=None, comment='Sin información de origen ni de licencia. Hay alternativas en commons', logtype='delete', action='delete', title='Archivo:Gnu head.png'),\n",
              " Row(item_id=5, timestamp='2004-12-23T08:02:22Z', contributor_username='Sanbec', contributor_id=7856.0, contributor_ip=None, comment='Sustituida por  [[commons:Image:Heckert_GNU.png]]', logtype='delete', action='delete', title='Archivo:Gnu-head-sm.jpg')]"
            ]
          },
          "metadata": {},
          "execution_count": 24
        }
      ]
    },
    {
      "cell_type": "code",
      "metadata": {
        "colab": {
          "base_uri": "https://localhost:8080/"
        },
        "id": "5Oy_of_6ni6T",
        "outputId": "f0ba02a6-2d78-4272-80e9-07568039218c"
      },
      "source": [
        "logs_sin_usuario = logs_rdd.filter(lambda x: x.contributor_ip != None).cache()\n",
        "logs_sin_usuario.take(5)"
      ],
      "execution_count": null,
      "outputs": [
        {
          "output_type": "execute_result",
          "data": {
            "text/plain": [
              "[Row(item_id=5101331, timestamp='2011-10-13T17:53:19Z', contributor_username=None, contributor_id=None, contributor_ip='201.33.231.244', comment=None, logtype='newusers', action='autocreate', title='Usuario:Tvmundomarbr'),\n",
              " Row(item_id=5125642, timestamp='2011-10-23T01:30:39Z', contributor_username=None, contributor_id=None, contributor_ip='58.97.219.125', comment=None, logtype='newusers', action='autocreate', title='Usuario:Bdnasir'),\n",
              " Row(item_id=5145241, timestamp='2011-10-29T16:06:32Z', contributor_username=None, contributor_id=None, contributor_ip='101.128.157.140', comment=None, logtype='newusers', action='autocreate', title='Usuario:テストマン'),\n",
              " Row(item_id=5150600, timestamp='2011-10-31T14:12:58Z', contributor_username=None, contributor_id=None, contributor_ip='193.52.198.110', comment=None, logtype='newusers', action='autocreate', title='Usuario:Andrasolofoarisoa'),\n",
              " Row(item_id=5152099, timestamp='2011-11-01T02:26:40Z', contributor_username=None, contributor_id=None, contributor_ip='188.176.28.43', comment=None, logtype='newusers', action='autocreate', title='Usuario:Art.performa')]"
            ]
          },
          "metadata": {},
          "execution_count": 25
        }
      ]
    },
    {
      "cell_type": "code",
      "metadata": {
        "colab": {
          "base_uri": "https://localhost:8080/"
        },
        "id": "HylQSwFQn0np",
        "outputId": "226888ae-f30d-4f3a-ce7b-4cce9ea24457"
      },
      "source": [
        "logs_sin_usuario.map(lambda x: (x.action, 1)).reduceByKey(lambda x,y: x+y).reduce(lambda x,y: x if x[1]>y[1] else y)"
      ],
      "execution_count": null,
      "outputs": [
        {
          "output_type": "execute_result",
          "data": {
            "text/plain": [
              "('create', 124119)"
            ]
          },
          "metadata": {},
          "execution_count": 26
        }
      ]
    },
    {
      "cell_type": "markdown",
      "metadata": {
        "id": "UOr00Ecvw6Ln"
      },
      "source": [
        "#Ejercicio 22"
      ]
    },
    {
      "cell_type": "code",
      "metadata": {
        "id": "Aeir01aYtFB8",
        "colab": {
          "base_uri": "https://localhost:8080/"
        },
        "outputId": "b3a8a4e9-df8d-4d66-e660-dbd1f3b4d719"
      },
      "source": [
        "languages_rdd.take(5)"
      ],
      "execution_count": null,
      "outputs": [
        {
          "output_type": "execute_result",
          "data": {
            "text/plain": [
              "[Row(babel_user=4502458, babel_lang='FR', babel_level='2'),\n",
              " Row(babel_user=5928200, babel_lang='aa', babel_level='0'),\n",
              " Row(babel_user=46918, babel_lang='ab', babel_level='0'),\n",
              " Row(babel_user=2050449, babel_lang='ab', babel_level='1'),\n",
              " Row(babel_user=4715583, babel_lang='ace', babel_level='0')]"
            ]
          },
          "metadata": {},
          "execution_count": 27
        }
      ]
    },
    {
      "cell_type": "code",
      "metadata": {
        "id": "9Cbokbytg_wG"
      },
      "source": [
        "bilingues = languages_rdd.map(lambda x: (x.babel_user, 1)).reduceByKey(lambda x,y: x+y).filter(lambda x: x[1] == 2)"
      ],
      "execution_count": null,
      "outputs": []
    },
    {
      "cell_type": "code",
      "metadata": {
        "colab": {
          "base_uri": "https://localhost:8080/"
        },
        "id": "QrhJyo34exbA",
        "outputId": "e2a9ae4d-af37-4869-ad4a-a9c8cdbb2efb"
      },
      "source": [
        "joined = languages_rdd.join(bilingues).cache()\n",
        "joined.take(5)"
      ],
      "execution_count": null,
      "outputs": [
        {
          "output_type": "execute_result",
          "data": {
            "text/plain": [
              "[(1724336, ('ang', 2)),\n",
              " (1724336, ('es', 2)),\n",
              " (1725400, ('ang', 2)),\n",
              " (1725400, ('es', 2)),\n",
              " (674716, ('ar', 2))]"
            ]
          },
          "metadata": {},
          "execution_count": 29
        }
      ]
    },
    {
      "cell_type": "code",
      "metadata": {
        "colab": {
          "base_uri": "https://localhost:8080/"
        },
        "id": "smXGpDqVhdPl",
        "outputId": "beb7f640-e46b-47e5-936b-f649847a24a3"
      },
      "source": [
        "joined.map(lambda x: (x[1][0].lower(), 1)).reduceByKey(lambda x,y: x+y).takeOrdered(5, lambda x: -x[1])"
      ],
      "execution_count": null,
      "outputs": [
        {
          "output_type": "execute_result",
          "data": {
            "text/plain": [
              "[('es', 3054), ('en', 2944), ('fr', 56), ('ca', 54), ('pt', 22)]"
            ]
          },
          "metadata": {},
          "execution_count": 30
        }
      ]
    }
  ]
}