{
  "nbformat": 4,
  "nbformat_minor": 0,
  "metadata": {
    "kernelspec": {
      "display_name": "Python 3",
      "language": "python",
      "name": "python3"
    },
    "language_info": {
      "codemirror_mode": {
        "name": "ipython",
        "version": 3
      },
      "file_extension": ".py",
      "mimetype": "text/x-python",
      "name": "python",
      "nbconvert_exporter": "python",
      "pygments_lexer": "ipython3",
      "version": "3.7.3"
    },
    "colab": {
      "name": "TP2-Ejercicio6",
      "provenance": [],
      "collapsed_sections": [
        "KLCow8sYSRUL",
        "ptmH8m31SdAm"
      ]
    }
  },
  "cells": [
    {
      "cell_type": "markdown",
      "metadata": {
        "id": "KLCow8sYSRUL"
      },
      "source": [
        "# Instalamos e importamos librerías"
      ]
    },
    {
      "cell_type": "code",
      "metadata": {
        "id": "caWRNg5SSVG7",
        "colab": {
          "base_uri": "https://localhost:8080/"
        },
        "outputId": "3653c7bb-7870-496f-8449-84c05eee4fe4"
      },
      "source": [
        "!pip install pyarrow\n",
        "!pip install pyspark\n",
        "!pip install -U -q PyDrive\n",
        "!apt update\n",
        "!apt install openjdk-8-jdk-headless -qq\n",
        "#!apt install default-jre\n",
        "#!apt install default-jdk\n",
        "import os\n",
        "os.environ[\"JAVA_HOME\"] = \"/usr/lib/jvm/java-8-openjdk-amd64\""
      ],
      "execution_count": null,
      "outputs": [
        {
          "output_type": "stream",
          "name": "stdout",
          "text": [
            "Requirement already satisfied: pyarrow in /usr/local/lib/python3.7/dist-packages (3.0.0)\n",
            "Requirement already satisfied: numpy>=1.16.6 in /usr/local/lib/python3.7/dist-packages (from pyarrow) (1.19.5)\n",
            "Requirement already satisfied: pyspark in /usr/local/lib/python3.7/dist-packages (3.2.0)\n",
            "Requirement already satisfied: py4j==0.10.9.2 in /usr/local/lib/python3.7/dist-packages (from pyspark) (0.10.9.2)\n",
            "Get:1 http://security.ubuntu.com/ubuntu bionic-security InRelease [88.7 kB]\n",
            "Hit:2 https://cloud.r-project.org/bin/linux/ubuntu bionic-cran40/ InRelease\n",
            "Ign:3 https://developer.download.nvidia.com/compute/cuda/repos/ubuntu1804/x86_64  InRelease\n",
            "Hit:4 http://archive.ubuntu.com/ubuntu bionic InRelease\n",
            "Hit:5 http://ppa.launchpad.net/c2d4u.team/c2d4u4.0+/ubuntu bionic InRelease\n",
            "Get:6 http://archive.ubuntu.com/ubuntu bionic-updates InRelease [88.7 kB]\n",
            "Hit:7 http://ppa.launchpad.net/cran/libgit2/ubuntu bionic InRelease\n",
            "Ign:8 https://developer.download.nvidia.com/compute/machine-learning/repos/ubuntu1804/x86_64  InRelease\n",
            "Hit:9 https://developer.download.nvidia.com/compute/cuda/repos/ubuntu1804/x86_64  Release\n",
            "Hit:10 https://developer.download.nvidia.com/compute/machine-learning/repos/ubuntu1804/x86_64  Release\n",
            "Hit:11 http://ppa.launchpad.net/deadsnakes/ppa/ubuntu bionic InRelease\n",
            "Get:12 http://archive.ubuntu.com/ubuntu bionic-backports InRelease [74.6 kB]\n",
            "Hit:13 http://ppa.launchpad.net/graphics-drivers/ppa/ubuntu bionic InRelease\n",
            "Fetched 252 kB in 2s (102 kB/s)\n",
            "Reading package lists... Done\n",
            "Building dependency tree       \n",
            "Reading state information... Done\n",
            "63 packages can be upgraded. Run 'apt list --upgradable' to see them.\n",
            "openjdk-8-jdk-headless is already the newest version (8u292-b10-0ubuntu1~18.04).\n",
            "The following package was automatically installed and is no longer required:\n",
            "  libnvidia-common-460\n",
            "Use 'apt autoremove' to remove it.\n",
            "0 upgraded, 0 newly installed, 0 to remove and 63 not upgraded.\n"
          ]
        }
      ]
    },
    {
      "cell_type": "code",
      "metadata": {
        "id": "PwC4R5OESXY0"
      },
      "source": [
        "from pydrive.auth import GoogleAuth\n",
        "from pydrive.drive import GoogleDrive\n",
        "from google.colab import auth\n",
        "from oauth2client.client import GoogleCredentials\n",
        "from pyspark.sql import *\n",
        "from pyspark.sql.functions import *\n",
        "from pyspark import SparkContext\n",
        "from pyspark.sql import SQLContext\n",
        "import pandas as pd"
      ],
      "execution_count": null,
      "outputs": []
    },
    {
      "cell_type": "markdown",
      "metadata": {
        "id": "ptmH8m31SdAm"
      },
      "source": [
        "# Autenticamos con Google Drive"
      ]
    },
    {
      "cell_type": "code",
      "metadata": {
        "id": "bo52mNzNSfhP"
      },
      "source": [
        "auth.authenticate_user()\n",
        "gauth = GoogleAuth()\n",
        "gauth.credentials = GoogleCredentials.get_application_default()\n",
        "drive = GoogleDrive(gauth)"
      ],
      "execution_count": null,
      "outputs": []
    },
    {
      "cell_type": "markdown",
      "metadata": {
        "id": "uRw3P8bNiqrl"
      },
      "source": [
        "#Ejercicio 6"
      ]
    },
    {
      "cell_type": "code",
      "metadata": {
        "colab": {
          "base_uri": "https://localhost:8080/"
        },
        "id": "VWrt3ULnpono",
        "outputId": "a8b359a4-a985-4f37-b561-7a4ea201c1ee"
      },
      "source": [
        "spark = SparkSession.builder.getOrCreate()\n",
        "sc = spark.sparkContext\n",
        "sqlContext = SQLContext(sc)"
      ],
      "execution_count": null,
      "outputs": [
        {
          "output_type": "stream",
          "name": "stderr",
          "text": [
            "/usr/local/lib/python3.7/dist-packages/pyspark/sql/context.py:79: FutureWarning: Deprecated in 3.0.0. Use SparkSession.builder.getOrCreate() instead.\n",
            "  FutureWarning\n"
          ]
        }
      ]
    },
    {
      "cell_type": "code",
      "metadata": {
        "id": "6_UUL9qlkJRm"
      },
      "source": [
        "downloaded = drive.CreateFile({'id':\"1onzu1sUgeY5EwmVQnjn5nmCn6YPf6S8v\"})\n",
        "downloaded.GetContentFile('pagelinks.csv')"
      ],
      "execution_count": null,
      "outputs": []
    },
    {
      "cell_type": "code",
      "metadata": {
        "id": "7sN9xZO1lCl2"
      },
      "source": [
        "downloaded = drive.CreateFile({'id':\"1oS2m872fr6796N_DgVyQ1hUvGBqJb2nR\"})\n",
        "downloaded.GetContentFile('contents.csv')"
      ],
      "execution_count": null,
      "outputs": []
    },
    {
      "cell_type": "markdown",
      "metadata": {
        "id": "j4IB7SFIDvZf"
      },
      "source": [
        "Uso samples del 20% para ambos archivos para que alcance la RAM"
      ]
    },
    {
      "cell_type": "code",
      "metadata": {
        "id": "Pbsu_kv0sZiq"
      },
      "source": [
        "pagelinks_pandas = pd.read_csv('pagelinks.csv')\n",
        "pagelinks_sample = pagelinks_pandas.sample(frac = 0.2)\n",
        "pagelinks_sample.to_csv('pagelinks_sample.csv')"
      ],
      "execution_count": null,
      "outputs": []
    },
    {
      "cell_type": "code",
      "metadata": {
        "id": "-_EgAhmxuuN2"
      },
      "source": [
        "contents_pandas = pd.read_csv('contents.csv')\n",
        "contents_sample = contents_pandas.sample(frac = 0.2)\n",
        "contents_sample.to_csv('contents_sample.csv')"
      ],
      "execution_count": null,
      "outputs": []
    },
    {
      "cell_type": "code",
      "metadata": {
        "id": "CM_M63viv4ij"
      },
      "source": [
        "df = sqlContext.read.csv('pagelinks_sample.csv', header=True, inferSchema=True)\n",
        "pagelinks_rdd = df.rdd"
      ],
      "execution_count": null,
      "outputs": []
    },
    {
      "cell_type": "code",
      "metadata": {
        "colab": {
          "base_uri": "https://localhost:8080/"
        },
        "id": "0czSCAhvwD9C",
        "outputId": "47c16e3d-c146-4357-adb8-dd73ee8c3028"
      },
      "source": [
        "pagelinks_rdd.take(5)"
      ],
      "execution_count": null,
      "outputs": [
        {
          "output_type": "execute_result",
          "data": {
            "text/plain": [
              "[Row(_c0=20759825, pl_from=594202, pl_namespace=0, pl_title='Ã\\x8dberos', pl_from_namespace='0'),\n",
              " Row(_c0=14095698, pl_from=2344670, pl_namespace=0, pl_title='Library_of_Congress_Control_Number', pl_from_namespace='0'),\n",
              " Row(_c0=52800785, pl_from=5572873, pl_namespace=0, pl_title='Wikispecies', pl_from_namespace='0'),\n",
              " Row(_c0=74346250, pl_from=133341, pl_namespace=0, pl_title='Elecciones_municipales_de_EspaÃ±a_de_2015', pl_from_namespace='0'),\n",
              " Row(_c0=46168699, pl_from=80192, pl_namespace=0, pl_title='DerivaciÃ³n_(matemÃ¡tica)', pl_from_namespace='0')]"
            ]
          },
          "metadata": {},
          "execution_count": 10
        }
      ]
    },
    {
      "cell_type": "code",
      "metadata": {
        "id": "pdZxZtrKvDGN"
      },
      "source": [
        "df = sqlContext.read.csv('contents_sample.csv', header=True, inferSchema=True)\n",
        "contents_rdd = df.rdd"
      ],
      "execution_count": null,
      "outputs": []
    },
    {
      "cell_type": "code",
      "metadata": {
        "colab": {
          "base_uri": "https://localhost:8080/"
        },
        "id": "jsL8FQKBwWvX",
        "outputId": "97b6bc15-3702-44d5-b884-ea182005d8b9"
      },
      "source": [
        "contents_rdd.take(5)"
      ],
      "execution_count": null,
      "outputs": [
        {
          "output_type": "execute_result",
          "data": {
            "text/plain": [
              "[Row(_c0='3286506', title='Categoría:Obras literarias en húngaro', id='7617609', namespace='14', revision_id='94345015', parent_revision=None, revision_timestamp='2016-10-16T15:12:06Z', revisor_username='Juan Mayordomo', revisor_id='591129.0', revisor_ip=None, revisor_comment='Página creada con «[[Categoría:Literatura en húngaro]] [[Categoría:Obras literarias por idioma|Hungaro]]»'),\n",
              " Row(_c0='931659', title='Tatiana Poutchek', id='2254976', namespace='0', revision_id='129453207', parent_revision='34781656.0', revision_timestamp='2020-09-21T20:04:44Z', revisor_username='EmausBot', revisor_id='1396057.0', revisor_ip=None, revisor_comment='Bot: corrección de redirección doble a [[Tatiana Púchek]]'),\n",
              " Row(_c0='3980396', title='Mendel Heymann', id='9634572', namespace='0', revision_id='130603721', parent_revision='130595868.0', revision_timestamp='2020-11-03T13:51:47Z', revisor_username='Aosbot', revisor_id='5045504.0', revisor_ip=None, revisor_comment='Mantenimiento de Control de autoridades'),\n",
              " Row(_c0='485119', title='Ermita de San Sebastián (Ayamonte)', id='1249864', namespace='0', revision_id='134947779', parent_revision='134927249.0', revision_timestamp='2021-04-21T20:11:10Z', revisor_username='Señor Aluminio', revisor_id='1517658.0', revisor_ip=None, revisor_comment='Homogeneización de fichas - [[Wikiproyecto:Huelva (provincia)]]'),\n",
              " Row(_c0='1107977', title='Rana arbórea semiacuática', id='2646340', namespace='0', revision_id='27819627', parent_revision=None, revision_timestamp='2009-07-06T20:03:37Z', revisor_username='Lucien leGrey', revisor_id='326341.0', revisor_ip=None, revisor_comment='Redirigir hacia [[Plectrohyla pachyderma]] usando [[w:es:User:Axxgreazz/Monobook-Suite|monobook-suite]]')]"
            ]
          },
          "metadata": {},
          "execution_count": 12
        }
      ]
    },
    {
      "cell_type": "code",
      "metadata": {
        "id": "uPheY3FuzUEV"
      },
      "source": [
        "pagelinks_by_title = pagelinks_rdd.filter(lambda x: x.pl_title != None and x.pl_from != None).map(lambda x: (x.pl_title, x.pl_from))"
      ],
      "execution_count": null,
      "outputs": []
    },
    {
      "cell_type": "code",
      "metadata": {
        "id": "C6Q17oqTzjnp"
      },
      "source": [
        "contents_by_title = contents_rdd.filter(lambda x: x.title != None and x.id != None).map(lambda x: (x.title,x.id))"
      ],
      "execution_count": null,
      "outputs": []
    },
    {
      "cell_type": "markdown",
      "metadata": {
        "id": "_GwJDa6REclZ"
      },
      "source": [
        "Armo el grafo "
      ]
    },
    {
      "cell_type": "code",
      "metadata": {
        "id": "gD2twIiswY9a"
      },
      "source": [
        "graph = pagelinks_by_title.join(contents_by_title).map(lambda x: (x[1][0], int(x[1][1]))).cache()"
      ],
      "execution_count": null,
      "outputs": []
    },
    {
      "cell_type": "code",
      "metadata": {
        "colab": {
          "base_uri": "https://localhost:8080/"
        },
        "id": "mE1FGB2cx_I0",
        "outputId": "6ccf3e5f-5ce9-4098-b101-910c63c8852a"
      },
      "source": [
        "graph.take(5)"
      ],
      "execution_count": null,
      "outputs": [
        {
          "output_type": "execute_result",
          "data": {
            "text/plain": [
              "[(4931539, 7722),\n",
              " (4409976, 7722),\n",
              " (2570696, 7722),\n",
              " (6599661, 7722),\n",
              " (7840823, 7722)]"
            ]
          },
          "metadata": {},
          "execution_count": 16
        }
      ]
    },
    {
      "cell_type": "code",
      "metadata": {
        "colab": {
          "base_uri": "https://localhost:8080/"
        },
        "id": "84hQzh9p3wFw",
        "outputId": "f4a376c7-3c18-4cd1-a3d9-84d2d6c05c4a"
      },
      "source": [
        "graph.count()"
      ],
      "execution_count": null,
      "outputs": [
        {
          "output_type": "execute_result",
          "data": {
            "text/plain": [
              "673026"
            ]
          },
          "metadata": {},
          "execution_count": 17
        }
      ]
    },
    {
      "cell_type": "markdown",
      "metadata": {
        "id": "HO_K6rfTE7i1"
      },
      "source": [
        "Funcion que dado el grafo y un numero de id, devuelve una lista de ids a donde referencia"
      ]
    },
    {
      "cell_type": "code",
      "metadata": {
        "id": "uk2MOl_u0K1E"
      },
      "source": [
        "def ids_a_un_grado(graph, id):\n",
        "\n",
        "  return graph.filter(lambda x: x[0] == id).map(lambda x: x[1]).collect()"
      ],
      "execution_count": null,
      "outputs": []
    },
    {
      "cell_type": "markdown",
      "metadata": {
        "id": "-e0kQpitEkUT"
      },
      "source": [
        "Quiero saber a cuantos id referencian algunas paginas para probar la funcion con un par de esos ids"
      ]
    },
    {
      "cell_type": "code",
      "metadata": {
        "colab": {
          "base_uri": "https://localhost:8080/"
        },
        "id": "ZSUQPORcByNg",
        "outputId": "ad9bdc75-3394-42b6-804a-cbb05c937a59"
      },
      "source": [
        "graph.map(lambda x: (x[0],1)).reduceByKey(lambda x,y: x+y).take(15)"
      ],
      "execution_count": null,
      "outputs": [
        {
          "output_type": "execute_result",
          "data": {
            "text/plain": [
              "[(5023935, 1),\n",
              " (9417576, 1),\n",
              " (8198624, 2),\n",
              " (33782, 1),\n",
              " (1419348, 2),\n",
              " (24745, 1),\n",
              " (5348245, 1),\n",
              " (7879830, 1),\n",
              " (6120660, 1),\n",
              " (309617, 2),\n",
              " (705124, 1),\n",
              " (1613990, 2),\n",
              " (5100256, 3),\n",
              " (1048628, 2),\n",
              " (4416608, 1)]"
            ]
          },
          "metadata": {},
          "execution_count": 23
        }
      ]
    },
    {
      "cell_type": "markdown",
      "metadata": {
        "id": "bzZm3F_zFirE"
      },
      "source": [
        "Pruebo con la funcion"
      ]
    },
    {
      "cell_type": "code",
      "metadata": {
        "colab": {
          "base_uri": "https://localhost:8080/"
        },
        "id": "yQwS6bKf7Dj3",
        "outputId": "7819a87c-6082-475f-fb06-a0c4852f195c"
      },
      "source": [
        "ids_a_un_grado(graph, 5100256)"
      ],
      "execution_count": null,
      "outputs": [
        {
          "output_type": "execute_result",
          "data": {
            "text/plain": [
              "[7722, 372555, 372555]"
            ]
          },
          "metadata": {},
          "execution_count": 24
        }
      ]
    },
    {
      "cell_type": "code",
      "metadata": {
        "colab": {
          "base_uri": "https://localhost:8080/"
        },
        "id": "6O0vLJD2HObS",
        "outputId": "0dc4c5a1-2d78-4164-aefe-2a9ba54b91f7"
      },
      "source": [
        "ids_a_un_grado(graph, 1048628)"
      ],
      "execution_count": null,
      "outputs": [
        {
          "output_type": "execute_result",
          "data": {
            "text/plain": [
              "[7722, 8636010]"
            ]
          },
          "metadata": {},
          "execution_count": 25
        }
      ]
    }
  ]
}